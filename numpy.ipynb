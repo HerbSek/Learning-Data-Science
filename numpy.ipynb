{
 "cells": [
  {
   "cell_type": "markdown",
   "id": "caa50398-d680-4bf7-8bf4-45f294c90da6",
   "metadata": {},
   "source": [
    "# Numpy Practice \n",
    "## Arrays "
   ]
  },
  {
   "cell_type": "code",
   "execution_count": 1,
   "id": "44ea6201-3347-42bd-9492-b2dfa6e08490",
   "metadata": {},
   "outputs": [],
   "source": [
    "import array"
   ]
  },
  {
   "cell_type": "code",
   "execution_count": 1,
   "id": "063b10fc-f95c-486e-872b-0fb82a06bbf3",
   "metadata": {},
   "outputs": [
    {
     "data": {
      "text/plain": [
       "[0, 1, 2, 3, 4, 5, 6, 7, 8, 9]"
      ]
     },
     "execution_count": 1,
     "metadata": {},
     "output_type": "execute_result"
    }
   ],
   "source": [
    "L = list(range(10))\n",
    "L"
   ]
  },
  {
   "cell_type": "code",
   "execution_count": 4,
   "id": "c0236c73-25a8-4c8e-96df-6bc4088ecd77",
   "metadata": {},
   "outputs": [],
   "source": [
    "A = array.array('i',L)"
   ]
  },
  {
   "cell_type": "code",
   "execution_count": 5,
   "id": "75ad104d-d7a4-4173-99e2-bf39d92c8684",
   "metadata": {},
   "outputs": [
    {
     "data": {
      "text/plain": [
       "array('i', [0, 1, 2, 3, 4, 5, 6, 7, 8, 9])"
      ]
     },
     "execution_count": 5,
     "metadata": {},
     "output_type": "execute_result"
    }
   ],
   "source": [
    "A"
   ]
  },
  {
   "cell_type": "code",
   "execution_count": 6,
   "id": "fcdacee0-d067-443b-abf5-2c13c6a6d48e",
   "metadata": {},
   "outputs": [
    {
     "data": {
      "text/plain": [
       "array([1, 4, 2, 5, 3])"
      ]
     },
     "execution_count": 6,
     "metadata": {},
     "output_type": "execute_result"
    }
   ],
   "source": [
    "import numpy as np\n",
    "np.array([1,4,2,5,3])"
   ]
  },
  {
   "cell_type": "code",
   "execution_count": 7,
   "id": "6b01d0f5-7428-42e1-9350-51b4b28e47f5",
   "metadata": {},
   "outputs": [
    {
     "data": {
      "text/plain": [
       "['False_',\n",
       " 'ScalarType',\n",
       " 'True_',\n",
       " '_CopyMode',\n",
       " '_NoValue',\n",
       " '__NUMPY_SETUP__',\n",
       " '__all__',\n",
       " '__array_api_version__',\n",
       " '__builtins__',\n",
       " '__cached__',\n",
       " '__config__',\n",
       " '__dir__',\n",
       " '__doc__',\n",
       " '__expired_attributes__',\n",
       " '__file__',\n",
       " '__former_attrs__',\n",
       " '__future_scalars__',\n",
       " '__getattr__',\n",
       " '__loader__',\n",
       " '__name__',\n",
       " '__numpy_submodules__',\n",
       " '__package__',\n",
       " '__path__',\n",
       " '__spec__',\n",
       " '__version__',\n",
       " '_core',\n",
       " '_distributor_init',\n",
       " '_expired_attrs_2_0',\n",
       " '_get_promotion_state',\n",
       " '_globals',\n",
       " '_int_extended_msg',\n",
       " '_mat',\n",
       " '_msg',\n",
       " '_no_nep50_warning',\n",
       " '_pyinstaller_hooks_dir',\n",
       " '_pytesttester',\n",
       " '_set_promotion_state',\n",
       " '_specific_msg',\n",
       " '_type_info',\n",
       " '_typing',\n",
       " '_utils',\n",
       " 'abs',\n",
       " 'absolute',\n",
       " 'acos',\n",
       " 'acosh',\n",
       " 'add',\n",
       " 'all',\n",
       " 'allclose',\n",
       " 'amax',\n",
       " 'amin',\n",
       " 'angle',\n",
       " 'any',\n",
       " 'append',\n",
       " 'apply_along_axis',\n",
       " 'apply_over_axes',\n",
       " 'arange',\n",
       " 'arccos',\n",
       " 'arccosh',\n",
       " 'arcsin',\n",
       " 'arcsinh',\n",
       " 'arctan',\n",
       " 'arctan2',\n",
       " 'arctanh',\n",
       " 'argmax',\n",
       " 'argmin',\n",
       " 'argpartition',\n",
       " 'argsort',\n",
       " 'argwhere',\n",
       " 'around',\n",
       " 'array',\n",
       " 'array2string',\n",
       " 'array_equal',\n",
       " 'array_equiv',\n",
       " 'array_repr',\n",
       " 'array_split',\n",
       " 'array_str',\n",
       " 'asanyarray',\n",
       " 'asarray',\n",
       " 'asarray_chkfinite',\n",
       " 'ascontiguousarray',\n",
       " 'asfortranarray',\n",
       " 'asin',\n",
       " 'asinh',\n",
       " 'asmatrix',\n",
       " 'astype',\n",
       " 'atan',\n",
       " 'atan2',\n",
       " 'atanh',\n",
       " 'atleast_1d',\n",
       " 'atleast_2d',\n",
       " 'atleast_3d',\n",
       " 'average',\n",
       " 'bartlett',\n",
       " 'base_repr',\n",
       " 'binary_repr',\n",
       " 'bincount',\n",
       " 'bitwise_and',\n",
       " 'bitwise_count',\n",
       " 'bitwise_invert',\n",
       " 'bitwise_left_shift',\n",
       " 'bitwise_not',\n",
       " 'bitwise_or',\n",
       " 'bitwise_right_shift',\n",
       " 'bitwise_xor',\n",
       " 'blackman',\n",
       " 'block',\n",
       " 'bmat',\n",
       " 'bool',\n",
       " 'bool_',\n",
       " 'broadcast',\n",
       " 'broadcast_arrays',\n",
       " 'broadcast_shapes',\n",
       " 'broadcast_to',\n",
       " 'busday_count',\n",
       " 'busday_offset',\n",
       " 'busdaycalendar',\n",
       " 'byte',\n",
       " 'bytes_',\n",
       " 'c_',\n",
       " 'can_cast',\n",
       " 'cbrt',\n",
       " 'cdouble',\n",
       " 'ceil',\n",
       " 'char',\n",
       " 'character',\n",
       " 'choose',\n",
       " 'clip',\n",
       " 'clongdouble',\n",
       " 'column_stack',\n",
       " 'common_type',\n",
       " 'complex128',\n",
       " 'complex64',\n",
       " 'complexfloating',\n",
       " 'compress',\n",
       " 'concat',\n",
       " 'concatenate',\n",
       " 'conj',\n",
       " 'conjugate',\n",
       " 'convolve',\n",
       " 'copy',\n",
       " 'copysign',\n",
       " 'copyto',\n",
       " 'core',\n",
       " 'corrcoef',\n",
       " 'correlate',\n",
       " 'cos',\n",
       " 'cosh',\n",
       " 'count_nonzero',\n",
       " 'cov',\n",
       " 'cross',\n",
       " 'csingle',\n",
       " 'ctypeslib',\n",
       " 'cumprod',\n",
       " 'cumsum',\n",
       " 'datetime64',\n",
       " 'datetime_as_string',\n",
       " 'datetime_data',\n",
       " 'deg2rad',\n",
       " 'degrees',\n",
       " 'delete',\n",
       " 'diag',\n",
       " 'diag_indices',\n",
       " 'diag_indices_from',\n",
       " 'diagflat',\n",
       " 'diagonal',\n",
       " 'diff',\n",
       " 'digitize',\n",
       " 'divide',\n",
       " 'divmod',\n",
       " 'dot',\n",
       " 'double',\n",
       " 'dsplit',\n",
       " 'dstack',\n",
       " 'dtype',\n",
       " 'dtypes',\n",
       " 'e',\n",
       " 'ediff1d',\n",
       " 'einsum',\n",
       " 'einsum_path',\n",
       " 'emath',\n",
       " 'empty',\n",
       " 'empty_like',\n",
       " 'equal',\n",
       " 'errstate',\n",
       " 'euler_gamma',\n",
       " 'exceptions',\n",
       " 'exp',\n",
       " 'exp2',\n",
       " 'expand_dims',\n",
       " 'expm1',\n",
       " 'extract',\n",
       " 'eye',\n",
       " 'f2py',\n",
       " 'fabs',\n",
       " 'fft',\n",
       " 'fill_diagonal',\n",
       " 'finfo',\n",
       " 'fix',\n",
       " 'flatiter',\n",
       " 'flatnonzero',\n",
       " 'flexible',\n",
       " 'flip',\n",
       " 'fliplr',\n",
       " 'flipud',\n",
       " 'float16',\n",
       " 'float32',\n",
       " 'float64',\n",
       " 'float_power',\n",
       " 'floating',\n",
       " 'floor',\n",
       " 'floor_divide',\n",
       " 'fmax',\n",
       " 'fmin',\n",
       " 'fmod',\n",
       " 'format_float_positional',\n",
       " 'format_float_scientific',\n",
       " 'frexp',\n",
       " 'from_dlpack',\n",
       " 'frombuffer',\n",
       " 'fromfile',\n",
       " 'fromfunction',\n",
       " 'fromiter',\n",
       " 'frompyfunc',\n",
       " 'fromregex',\n",
       " 'fromstring',\n",
       " 'full',\n",
       " 'full_like',\n",
       " 'gcd',\n",
       " 'generic',\n",
       " 'genfromtxt',\n",
       " 'geomspace',\n",
       " 'get_include',\n",
       " 'get_printoptions',\n",
       " 'getbufsize',\n",
       " 'geterr',\n",
       " 'geterrcall',\n",
       " 'gradient',\n",
       " 'greater',\n",
       " 'greater_equal',\n",
       " 'half',\n",
       " 'hamming',\n",
       " 'hanning',\n",
       " 'heaviside',\n",
       " 'histogram',\n",
       " 'histogram2d',\n",
       " 'histogram_bin_edges',\n",
       " 'histogramdd',\n",
       " 'hsplit',\n",
       " 'hstack',\n",
       " 'hypot',\n",
       " 'i0',\n",
       " 'identity',\n",
       " 'iinfo',\n",
       " 'imag',\n",
       " 'in1d',\n",
       " 'index_exp',\n",
       " 'indices',\n",
       " 'inexact',\n",
       " 'inf',\n",
       " 'info',\n",
       " 'inner',\n",
       " 'insert',\n",
       " 'int16',\n",
       " 'int32',\n",
       " 'int64',\n",
       " 'int8',\n",
       " 'int_',\n",
       " 'intc',\n",
       " 'integer',\n",
       " 'interp',\n",
       " 'intersect1d',\n",
       " 'intp',\n",
       " 'invert',\n",
       " 'is_busday',\n",
       " 'isclose',\n",
       " 'iscomplex',\n",
       " 'iscomplexobj',\n",
       " 'isdtype',\n",
       " 'isfinite',\n",
       " 'isfortran',\n",
       " 'isin',\n",
       " 'isinf',\n",
       " 'isnan',\n",
       " 'isnat',\n",
       " 'isneginf',\n",
       " 'isposinf',\n",
       " 'isreal',\n",
       " 'isrealobj',\n",
       " 'isscalar',\n",
       " 'issubdtype',\n",
       " 'iterable',\n",
       " 'ix_',\n",
       " 'kaiser',\n",
       " 'kron',\n",
       " 'lcm',\n",
       " 'ldexp',\n",
       " 'left_shift',\n",
       " 'less',\n",
       " 'less_equal',\n",
       " 'lexsort',\n",
       " 'lib',\n",
       " 'linalg',\n",
       " 'linspace',\n",
       " 'little_endian',\n",
       " 'load',\n",
       " 'loadtxt',\n",
       " 'log',\n",
       " 'log10',\n",
       " 'log1p',\n",
       " 'log2',\n",
       " 'logaddexp',\n",
       " 'logaddexp2',\n",
       " 'logical_and',\n",
       " 'logical_not',\n",
       " 'logical_or',\n",
       " 'logical_xor',\n",
       " 'logspace',\n",
       " 'long',\n",
       " 'longdouble',\n",
       " 'longlong',\n",
       " 'ma',\n",
       " 'mask_indices',\n",
       " 'matmul',\n",
       " 'matrix',\n",
       " 'matrix_transpose',\n",
       " 'max',\n",
       " 'maximum',\n",
       " 'may_share_memory',\n",
       " 'mean',\n",
       " 'median',\n",
       " 'memmap',\n",
       " 'meshgrid',\n",
       " 'mgrid',\n",
       " 'min',\n",
       " 'min_scalar_type',\n",
       " 'minimum',\n",
       " 'mintypecode',\n",
       " 'mod',\n",
       " 'modf',\n",
       " 'moveaxis',\n",
       " 'multiply',\n",
       " 'nan',\n",
       " 'nan_to_num',\n",
       " 'nanargmax',\n",
       " 'nanargmin',\n",
       " 'nancumprod',\n",
       " 'nancumsum',\n",
       " 'nanmax',\n",
       " 'nanmean',\n",
       " 'nanmedian',\n",
       " 'nanmin',\n",
       " 'nanpercentile',\n",
       " 'nanprod',\n",
       " 'nanquantile',\n",
       " 'nanstd',\n",
       " 'nansum',\n",
       " 'nanvar',\n",
       " 'ndarray',\n",
       " 'ndenumerate',\n",
       " 'ndim',\n",
       " 'ndindex',\n",
       " 'nditer',\n",
       " 'negative',\n",
       " 'nested_iters',\n",
       " 'newaxis',\n",
       " 'nextafter',\n",
       " 'nonzero',\n",
       " 'not_equal',\n",
       " 'number',\n",
       " 'object_',\n",
       " 'ogrid',\n",
       " 'ones',\n",
       " 'ones_like',\n",
       " 'outer',\n",
       " 'packbits',\n",
       " 'pad',\n",
       " 'partition',\n",
       " 'percentile',\n",
       " 'permute_dims',\n",
       " 'pi',\n",
       " 'piecewise',\n",
       " 'place',\n",
       " 'poly',\n",
       " 'poly1d',\n",
       " 'polyadd',\n",
       " 'polyder',\n",
       " 'polydiv',\n",
       " 'polyfit',\n",
       " 'polyint',\n",
       " 'polymul',\n",
       " 'polynomial',\n",
       " 'polysub',\n",
       " 'polyval',\n",
       " 'positive',\n",
       " 'pow',\n",
       " 'power',\n",
       " 'printoptions',\n",
       " 'prod',\n",
       " 'promote_types',\n",
       " 'ptp',\n",
       " 'put',\n",
       " 'put_along_axis',\n",
       " 'putmask',\n",
       " 'quantile',\n",
       " 'r_',\n",
       " 'rad2deg',\n",
       " 'radians',\n",
       " 'random',\n",
       " 'ravel',\n",
       " 'ravel_multi_index',\n",
       " 'real',\n",
       " 'real_if_close',\n",
       " 'rec',\n",
       " 'recarray',\n",
       " 'reciprocal',\n",
       " 'record',\n",
       " 'remainder',\n",
       " 'repeat',\n",
       " 'require',\n",
       " 'reshape',\n",
       " 'resize',\n",
       " 'result_type',\n",
       " 'right_shift',\n",
       " 'rint',\n",
       " 'roll',\n",
       " 'rollaxis',\n",
       " 'roots',\n",
       " 'rot90',\n",
       " 'round',\n",
       " 'row_stack',\n",
       " 's_',\n",
       " 'save',\n",
       " 'savetxt',\n",
       " 'savez',\n",
       " 'savez_compressed',\n",
       " 'sctypeDict',\n",
       " 'searchsorted',\n",
       " 'select',\n",
       " 'set_printoptions',\n",
       " 'setbufsize',\n",
       " 'setdiff1d',\n",
       " 'seterr',\n",
       " 'seterrcall',\n",
       " 'setxor1d',\n",
       " 'shape',\n",
       " 'shares_memory',\n",
       " 'short',\n",
       " 'show_config',\n",
       " 'show_runtime',\n",
       " 'sign',\n",
       " 'signbit',\n",
       " 'signedinteger',\n",
       " 'sin',\n",
       " 'sinc',\n",
       " 'single',\n",
       " 'sinh',\n",
       " 'size',\n",
       " 'sort',\n",
       " 'sort_complex',\n",
       " 'spacing',\n",
       " 'split',\n",
       " 'sqrt',\n",
       " 'square',\n",
       " 'squeeze',\n",
       " 'stack',\n",
       " 'std',\n",
       " 'str_',\n",
       " 'strings',\n",
       " 'subtract',\n",
       " 'sum',\n",
       " 'swapaxes',\n",
       " 'take',\n",
       " 'take_along_axis',\n",
       " 'tan',\n",
       " 'tanh',\n",
       " 'tensordot',\n",
       " 'test',\n",
       " 'testing',\n",
       " 'tile',\n",
       " 'timedelta64',\n",
       " 'trace',\n",
       " 'transpose',\n",
       " 'trapezoid',\n",
       " 'trapz',\n",
       " 'tri',\n",
       " 'tril',\n",
       " 'tril_indices',\n",
       " 'tril_indices_from',\n",
       " 'trim_zeros',\n",
       " 'triu',\n",
       " 'triu_indices',\n",
       " 'triu_indices_from',\n",
       " 'true_divide',\n",
       " 'trunc',\n",
       " 'typecodes',\n",
       " 'typename',\n",
       " 'typing',\n",
       " 'ubyte',\n",
       " 'ufunc',\n",
       " 'uint',\n",
       " 'uint16',\n",
       " 'uint32',\n",
       " 'uint64',\n",
       " 'uint8',\n",
       " 'uintc',\n",
       " 'uintp',\n",
       " 'ulong',\n",
       " 'ulonglong',\n",
       " 'union1d',\n",
       " 'unique',\n",
       " 'unique_all',\n",
       " 'unique_counts',\n",
       " 'unique_inverse',\n",
       " 'unique_values',\n",
       " 'unpackbits',\n",
       " 'unravel_index',\n",
       " 'unsignedinteger',\n",
       " 'unwrap',\n",
       " 'ushort',\n",
       " 'vander',\n",
       " 'var',\n",
       " 'vdot',\n",
       " 'vecdot',\n",
       " 'vectorize',\n",
       " 'void',\n",
       " 'vsplit',\n",
       " 'vstack',\n",
       " 'where',\n",
       " 'zeros',\n",
       " 'zeros_like']"
      ]
     },
     "execution_count": 7,
     "metadata": {},
     "output_type": "execute_result"
    }
   ],
   "source": [
    "import numpy as np\n",
    "([x for x in dir(np)])"
   ]
  },
  {
   "cell_type": "code",
   "execution_count": 2,
   "id": "5906f38a-0387-4000-8fe0-a782e98a31a5",
   "metadata": {},
   "outputs": [
    {
     "data": {
      "text/plain": [
       "array([[1., 2.],\n",
       "       [3., 4.]], dtype=float32)"
      ]
     },
     "execution_count": 2,
     "metadata": {},
     "output_type": "execute_result"
    }
   ],
   "source": [
    "import numpy as np\n",
    "np.array([1,2,3,4], dtype = 'float32').reshape((2,2))"
   ]
  },
  {
   "cell_type": "markdown",
   "id": "c5da18db-a849-4779-85c4-deae832d7f5b",
   "metadata": {},
   "source": [
    "### Creating Arrays from Scratch "
   ]
  },
  {
   "cell_type": "code",
   "execution_count": 3,
   "id": "8d0b264f-9707-45df-8cf9-15689dbd84b5",
   "metadata": {},
   "outputs": [
    {
     "data": {
      "text/plain": [
       "array([[0., 0., 0.],\n",
       "       [0., 0., 0.],\n",
       "       [0., 0., 0.]])"
      ]
     },
     "execution_count": 3,
     "metadata": {},
     "output_type": "execute_result"
    }
   ],
   "source": [
    "import numpy as np\n",
    "np.zeros(9, dtype='float').reshape((3,3))"
   ]
  },
  {
   "cell_type": "markdown",
   "id": "9335653a-e465-4bc4-b721-9f3d920e9678",
   "metadata": {},
   "source": [
    "### Creating a 3x5 array filled with 3.14"
   ]
  },
  {
   "cell_type": "code",
   "execution_count": 10,
   "id": "428c23ac-aef2-4d38-a286-e130fa5261ae",
   "metadata": {},
   "outputs": [
    {
     "data": {
      "text/plain": [
       "array([[3.14, 3.14, 3.14, 3.14, 3.14],\n",
       "       [3.14, 3.14, 3.14, 3.14, 3.14],\n",
       "       [3.14, 3.14, 3.14, 3.14, 3.14]])"
      ]
     },
     "execution_count": 10,
     "metadata": {},
     "output_type": "execute_result"
    }
   ],
   "source": [
    "np.full((3,5),3.14)"
   ]
  },
  {
   "cell_type": "code",
   "execution_count": 12,
   "id": "2af9814c-cdfb-4ca1-96d9-4e1e10087b2a",
   "metadata": {},
   "outputs": [
    {
     "name": "stdout",
     "output_type": "stream",
     "text": [
      "Help on built-in function array in module numpy:\n",
      "\n",
      "array(...)\n",
      "    array(object, dtype=None, *, copy=True, order='K', subok=False, ndmin=0,\n",
      "          like=None)\n",
      "\n",
      "    Create an array.\n",
      "\n",
      "    Parameters\n",
      "    ----------\n",
      "    object : array_like\n",
      "        An array, any object exposing the array interface, an object whose\n",
      "        ``__array__`` method returns an array, or any (nested) sequence.\n",
      "        If object is a scalar, a 0-dimensional array containing object is\n",
      "        returned.\n",
      "    dtype : data-type, optional\n",
      "        The desired data-type for the array. If not given, NumPy will try to use\n",
      "        a default ``dtype`` that can represent the values (by applying promotion\n",
      "        rules when necessary.)\n",
      "    copy : bool, optional\n",
      "        If ``True`` (default), then the array data is copied. If ``None``,\n",
      "        a copy will only be made if ``__array__`` returns a copy, if obj is\n",
      "        a nested sequence, or if a copy is needed to satisfy any of the other\n",
      "        requirements (``dtype``, ``order``, etc.). Note that any copy of\n",
      "        the data is shallow, i.e., for arrays with object dtype, the new\n",
      "        array will point to the same objects. See Examples for `ndarray.copy`.\n",
      "        For ``False`` it raises a ``ValueError`` if a copy cannot be avoided.\n",
      "        Default: ``True``.\n",
      "    order : {'K', 'A', 'C', 'F'}, optional\n",
      "        Specify the memory layout of the array. If object is not an array, the\n",
      "        newly created array will be in C order (row major) unless 'F' is\n",
      "        specified, in which case it will be in Fortran order (column major).\n",
      "        If object is an array the following holds.\n",
      "\n",
      "        ===== ========= ===================================================\n",
      "        order  no copy                     copy=True\n",
      "        ===== ========= ===================================================\n",
      "        'K'   unchanged F & C order preserved, otherwise most similar order\n",
      "        'A'   unchanged F order if input is F and not C, otherwise C order\n",
      "        'C'   C order   C order\n",
      "        'F'   F order   F order\n",
      "        ===== ========= ===================================================\n",
      "\n",
      "        When ``copy=None`` and a copy is made for other reasons, the result is\n",
      "        the same as if ``copy=True``, with some exceptions for 'A', see the\n",
      "        Notes section. The default order is 'K'.\n",
      "    subok : bool, optional\n",
      "        If True, then sub-classes will be passed-through, otherwise\n",
      "        the returned array will be forced to be a base-class array (default).\n",
      "    ndmin : int, optional\n",
      "        Specifies the minimum number of dimensions that the resulting\n",
      "        array should have.  Ones will be prepended to the shape as\n",
      "        needed to meet this requirement.\n",
      "    like : array_like, optional\n",
      "        Reference object to allow the creation of arrays which are not\n",
      "        NumPy arrays. If an array-like passed in as ``like`` supports\n",
      "        the ``__array_function__`` protocol, the result will be defined\n",
      "        by it. In this case, it ensures the creation of an array object\n",
      "        compatible with that passed in via this argument.\n",
      "\n",
      "        .. versionadded:: 1.20.0\n",
      "\n",
      "    Returns\n",
      "    -------\n",
      "    out : ndarray\n",
      "        An array object satisfying the specified requirements.\n",
      "\n",
      "    See Also\n",
      "    --------\n",
      "    empty_like : Return an empty array with shape and type of input.\n",
      "    ones_like : Return an array of ones with shape and type of input.\n",
      "    zeros_like : Return an array of zeros with shape and type of input.\n",
      "    full_like : Return a new array with shape of input filled with value.\n",
      "    empty : Return a new uninitialized array.\n",
      "    ones : Return a new array setting values to one.\n",
      "    zeros : Return a new array setting values to zero.\n",
      "    full : Return a new array of given shape filled with value.\n",
      "    copy: Return an array copy of the given object.\n",
      "\n",
      "\n",
      "    Notes\n",
      "    -----\n",
      "    When order is 'A' and ``object`` is an array in neither 'C' nor 'F' order,\n",
      "    and a copy is forced by a change in dtype, then the order of the result is\n",
      "    not necessarily 'C' as expected. This is likely a bug.\n",
      "\n",
      "    Examples\n",
      "    --------\n",
      "    >>> np.array([1, 2, 3])\n",
      "    array([1, 2, 3])\n",
      "\n",
      "    Upcasting:\n",
      "\n",
      "    >>> np.array([1, 2, 3.0])\n",
      "    array([ 1.,  2.,  3.])\n",
      "\n",
      "    More than one dimension:\n",
      "\n",
      "    >>> np.array([[1, 2], [3, 4]])\n",
      "    array([[1, 2],\n",
      "           [3, 4]])\n",
      "\n",
      "    Minimum dimensions 2:\n",
      "\n",
      "    >>> np.array([1, 2, 3], ndmin=2)\n",
      "    array([[1, 2, 3]])\n",
      "\n",
      "    Type provided:\n",
      "\n",
      "    >>> np.array([1, 2, 3], dtype=complex)\n",
      "    array([ 1.+0.j,  2.+0.j,  3.+0.j])\n",
      "\n",
      "    Data-type consisting of more than one element:\n",
      "\n",
      "    >>> x = np.array([(1,2),(3,4)],dtype=[('a','<i4'),('b','<i4')])\n",
      "    >>> x['a']\n",
      "    array([1, 3])\n",
      "\n",
      "    Creating an array from sub-classes:\n",
      "\n",
      "    >>> np.array(np.asmatrix('1 2; 3 4'))\n",
      "    array([[1, 2],\n",
      "           [3, 4]])\n",
      "\n",
      "    >>> np.array(np.asmatrix('1 2; 3 4'), subok=True)\n",
      "    matrix([[1, 2],\n",
      "            [3, 4]])\n",
      "\n"
     ]
    }
   ],
   "source": [
    "# Getting the details of the method or function in an attribute .eg:\n",
    "help(getattr(np, 'array'))"
   ]
  },
  {
   "cell_type": "code",
   "execution_count": 5,
   "id": "2955206b-12fa-401f-8552-6cf2536ad7cb",
   "metadata": {},
   "outputs": [
    {
     "data": {
      "text/plain": [
       "array([ 0., 10.])"
      ]
     },
     "execution_count": 5,
     "metadata": {},
     "output_type": "execute_result"
    }
   ],
   "source": [
    "np.linspace(0,10,2)"
   ]
  },
  {
   "cell_type": "code",
   "execution_count": 3,
   "id": "f81b122e-5b35-4bdc-9442-0ce018c6fb5a",
   "metadata": {},
   "outputs": [
    {
     "data": {
      "text/plain": [
       "array([ 0,  2,  4,  6,  8, 10])"
      ]
     },
     "execution_count": 3,
     "metadata": {},
     "output_type": "execute_result"
    }
   ],
   "source": [
    "np.arange(0,11,2)"
   ]
  },
  {
   "cell_type": "code",
   "execution_count": 3,
   "id": "9756c2d4-1517-4474-b88d-2c7b23694d8e",
   "metadata": {},
   "outputs": [
    {
     "data": {
      "text/plain": [
       "array([1.  , 1.25, 1.5 , 1.75, 2.  ])"
      ]
     },
     "execution_count": 3,
     "metadata": {},
     "output_type": "execute_result"
    }
   ],
   "source": [
    "import numpy as np\n",
    "np.linspace(1,2,5)"
   ]
  },
  {
   "cell_type": "code",
   "execution_count": 7,
   "id": "19c56c6a-120b-42e4-bc15-33cae901f028",
   "metadata": {},
   "outputs": [
    {
     "data": {
      "text/plain": [
       "4"
      ]
     },
     "execution_count": 7,
     "metadata": {},
     "output_type": "execute_result"
    }
   ],
   "source": [
    "np.random.randint(5)"
   ]
  },
  {
   "cell_type": "code",
   "execution_count": 1,
   "id": "4e377ce0-c85e-47f8-8872-6974e1e19ea4",
   "metadata": {},
   "outputs": [
    {
     "data": {
      "text/plain": [
       "array([-0.36629076, -0.47096898,  1.58384165,  0.06367968,  0.91294354,\n",
       "       -1.1220646 ])"
      ]
     },
     "execution_count": 1,
     "metadata": {},
     "output_type": "execute_result"
    }
   ],
   "source": [
    "import random\n",
    "import numpy as np\n",
    "np.random.randint(10, size=6)\n",
    "np.random.randn(6)"
   ]
  },
  {
   "cell_type": "code",
   "execution_count": 3,
   "id": "b0512b7c-9990-4ff0-81af-b7665a9bf80e",
   "metadata": {},
   "outputs": [],
   "source": [
    "np.random.seed(0)"
   ]
  },
  {
   "cell_type": "code",
   "execution_count": 146,
   "id": "e577854b-1e7e-4ee9-9f68-3f7d05b6d8a5",
   "metadata": {},
   "outputs": [
    {
     "name": "stdout",
     "output_type": "stream",
     "text": [
      "1\n",
      "2\n",
      "1\n",
      "(2,)\n",
      "2\n",
      "[1 1]\n"
     ]
    }
   ],
   "source": [
    "x1 = np.ones(2, dtype='int8')\n",
    "print(x1.ndim)\n",
    "print(x1.size)\n",
    "print(x1.itemsize)\n",
    "print(x1.shape)\n",
    "print(x1.nbytes)\n",
    "print(x1)"
   ]
  },
  {
   "cell_type": "code",
   "execution_count": 1,
   "id": "b0f76e67-9afc-4994-bc7d-661de1010603",
   "metadata": {},
   "outputs": [
    {
     "data": {
      "text/plain": [
       "array([0, 1, 2, 3, 4, 5, 6, 7, 8, 9])"
      ]
     },
     "execution_count": 1,
     "metadata": {},
     "output_type": "execute_result"
    }
   ],
   "source": [
    "import numpy as np\n",
    "my_array = np.arange(10)\n",
    "my_array"
   ]
  },
  {
   "cell_type": "code",
   "execution_count": 2,
   "id": "646601c0-c6ea-4f57-9d85-3daa9c5c7df5",
   "metadata": {},
   "outputs": [
    {
     "data": {
      "text/plain": [
       "array([1, 4, 7])"
      ]
     },
     "execution_count": 2,
     "metadata": {},
     "output_type": "execute_result"
    }
   ],
   "source": [
    "my_array[1::3]"
   ]
  },
  {
   "cell_type": "markdown",
   "id": "da0bbf80-31e8-4e9f-8065-0f4d4da89d66",
   "metadata": {},
   "source": [
    "### Reshaping of arrays "
   ]
  },
  {
   "cell_type": "code",
   "execution_count": 3,
   "id": "e6153ab5-c062-421a-a725-2ca14654d8cd",
   "metadata": {},
   "outputs": [
    {
     "data": {
      "text/plain": [
       "array([[1, 2, 3],\n",
       "       [4, 5, 6],\n",
       "       [7, 8, 9]])"
      ]
     },
     "execution_count": 3,
     "metadata": {},
     "output_type": "execute_result"
    }
   ],
   "source": [
    "import numpy as np\n",
    "np.arange(1,10).reshape((3,3))"
   ]
  },
  {
   "cell_type": "code",
   "execution_count": 6,
   "id": "329c8724-0387-4f7f-ae93-738b0eaed2c5",
   "metadata": {},
   "outputs": [
    {
     "name": "stdout",
     "output_type": "stream",
     "text": [
      "[1 2 3] [99 99  3] [ 2  1  2  3 99 99  3  2  1]\n"
     ]
    }
   ],
   "source": [
    "import numpy as np\n",
    "x = [1, 2, 3, 99, 99, 3, 2, 1, 2, 3, 99, 99, 3, 2, 1]\n",
    "x1, x2, x3 = np.split(x, [3,6])\n",
    "print(x1, x2, x3) "
   ]
  },
  {
   "cell_type": "markdown",
   "id": "097ab8cb-4ae0-49fb-91d6-b579e08102b2",
   "metadata": {},
   "source": [
    "### Computation on Numpy Arrays : Universal Functions "
   ]
  },
  {
   "cell_type": "code",
   "execution_count": 30,
   "id": "530e13c9-e007-460e-991c-6a2fa68fd856",
   "metadata": {},
   "outputs": [
    {
     "name": "stdout",
     "output_type": "stream",
     "text": [
      "[0.16666667 1.         0.25       0.25       4.        ]\n"
     ]
    }
   ],
   "source": [
    "import numpy as np\n",
    "import random\n",
    "np.random.seed(0) \n",
    "\n",
    "def compute_reciprocals(values):\n",
    "    output = np.empty(len(values))\n",
    "    for i in range(len(values)-1):\n",
    "        output[i]= 1.0 / values[i]\n",
    "    return output\n",
    "\n",
    "my_array = np.random.randint(1,10, size=5)\n",
    "print(compute_reciprocals(my_array))"
   ]
  },
  {
   "cell_type": "code",
   "execution_count": 10,
   "id": "7f12cf66-2dc6-4268-8a70-b12c5823d9f2",
   "metadata": {},
   "outputs": [
    {
     "name": "stdout",
     "output_type": "stream",
     "text": [
      "14 μs ± 2.32 μs per loop (mean ± std. dev. of 7 runs, 10,000 loops each)\n"
     ]
    }
   ],
   "source": [
    " %timeit compute_reciprocals(my_array)\n"
   ]
  },
  {
   "cell_type": "code",
   "execution_count": 24,
   "id": "323197ca-aad7-4657-a239-317cae49efc5",
   "metadata": {},
   "outputs": [
    {
     "name": "stdout",
     "output_type": "stream",
     "text": [
      "[[  1   2   4]\n",
      " [  8  16  32]\n",
      " [ 64 128 256]]\n"
     ]
    }
   ],
   "source": [
    "x = np.arange(9)\n",
    "y = []\n",
    "for i in x:\n",
    "    i = int(2**i)\n",
    "    y.append(i)\n",
    "y =np.array(y).reshape((3,3))\n",
    "print(y)"
   ]
  },
  {
   "cell_type": "code",
   "execution_count": 26,
   "id": "5c0c037f-beb8-4ef0-8efc-a6249d227c37",
   "metadata": {},
   "outputs": [
    {
     "name": "stdout",
     "output_type": "stream",
     "text": [
      "[[  1   2   4]\n",
      " [  8  16  32]\n",
      " [ 64 128 256]]\n"
     ]
    }
   ],
   "source": [
    "import numpy as np\n",
    "\n",
    "x = np.arange(9).reshape((3,3))\n",
    "y = 2 ** x\n",
    "print(y)\n"
   ]
  },
  {
   "cell_type": "code",
   "execution_count": 31,
   "id": "9d6578cb-0b64-467c-86a2-ea3a19a5eac5",
   "metadata": {},
   "outputs": [
    {
     "data": {
      "text/plain": [
       "array([2, 1, 0, 1, 2])"
      ]
     },
     "execution_count": 31,
     "metadata": {},
     "output_type": "execute_result"
    }
   ],
   "source": [
    "x = np.array([-2, -1, 0, 1, 2])\n",
    "abs(x)"
   ]
  },
  {
   "cell_type": "code",
   "execution_count": 32,
   "id": "897ac888-0ba9-4083-b27f-ca678fe554df",
   "metadata": {},
   "outputs": [
    {
     "data": {
      "text/plain": [
       "array([2, 1, 0, 1, 2])"
      ]
     },
     "execution_count": 32,
     "metadata": {},
     "output_type": "execute_result"
    }
   ],
   "source": [
    "np.absolute(x)"
   ]
  },
  {
   "cell_type": "markdown",
   "id": "8d871b76-2022-4cd9-868c-99d3469b25fb",
   "metadata": {},
   "source": [
    "### Trigonometric Functions"
   ]
  },
  {
   "cell_type": "code",
   "execution_count": 33,
   "id": "51b05d60-7256-40e6-8088-add77ab41b32",
   "metadata": {},
   "outputs": [
    {
     "data": {
      "text/plain": [
       "array([0.        , 1.57079633, 3.14159265])"
      ]
     },
     "execution_count": 33,
     "metadata": {},
     "output_type": "execute_result"
    }
   ],
   "source": [
    "theta = np.linspace(0, np.pi, 3)\n",
    "theta"
   ]
  },
  {
   "cell_type": "code",
   "execution_count": 36,
   "id": "e79024c3-6d58-47f9-b7dd-2836bcc9d8d8",
   "metadata": {},
   "outputs": [
    {
     "data": {
      "text/plain": [
       "array([ 0.00000000e+00,  1.63312394e+16, -1.22464680e-16])"
      ]
     },
     "execution_count": 36,
     "metadata": {},
     "output_type": "execute_result"
    }
   ],
   "source": [
    "np.sin(theta)\n",
    "np.cos(theta)\n",
    "np.tan(theta) "
   ]
  },
  {
   "cell_type": "markdown",
   "id": "1d427594-bf25-4166-b8b9-66b3613ff7f5",
   "metadata": {},
   "source": [
    "### Specialized ufuncs"
   ]
  },
  {
   "cell_type": "code",
   "execution_count": 41,
   "id": "be6252a6-8f49-4814-be67-3355f99be031",
   "metadata": {},
   "outputs": [
    {
     "data": {
      "text/plain": [
       "array([[     inf, 1.00e+00, 1.00e+00],\n",
       "       [2.00e+00, 6.00e+00, 2.40e+01],\n",
       "       [1.20e+02, 7.20e+02, 5.04e+03]])"
      ]
     },
     "execution_count": 41,
     "metadata": {},
     "output_type": "execute_result"
    }
   ],
   "source": [
    "from scipy import special\n",
    "import numpy as np\n",
    "x=np.arange(9).reshape((3,3))\n",
    "special.gamma(x) \n",
    "# special.beta() etc..."
   ]
  },
  {
   "cell_type": "code",
   "execution_count": 42,
   "id": "2cc9865c-42fb-4f26-8b33-84cd4b4e75a1",
   "metadata": {},
   "outputs": [
    {
     "name": "stdout",
     "output_type": "stream",
     "text": [
      "[ 0. 10. 20. 30. 40.]\n"
     ]
    }
   ],
   "source": [
    "x = np.arange(5)\n",
    "y = np.empty(5)\n",
    "np.multiply(x, 10, out=y)  # the values obtained are sent out to y \n",
    "print(y)\n"
   ]
  },
  {
   "cell_type": "code",
   "execution_count": 2,
   "id": "fc930d15-6809-4279-9131-b15450d7c694",
   "metadata": {},
   "outputs": [
    {
     "data": {
      "text/plain": [
       "array([ 0,  4,  8, 12, 16, 20])"
      ]
     },
     "execution_count": 2,
     "metadata": {},
     "output_type": "execute_result"
    }
   ],
   "source": [
    "import numpy as np\n",
    "x = np.arange( 6)\n",
    "x += x\n",
    "2*x"
   ]
  },
  {
   "cell_type": "markdown",
   "id": "fae5cbbb-59e6-40e9-8547-8a1a7bf8c957",
   "metadata": {},
   "source": [
    "### Average Height of US Presidents "
   ]
  },
  {
   "cell_type": "code",
   "execution_count": 53,
   "id": "4ca0bd0b-a1be-418b-ad63-036e38d0fe6c",
   "metadata": {},
   "outputs": [
    {
     "name": "stdout",
     "output_type": "stream",
     "text": [
      "[189 170 189]\n",
      "Average height : 182.66666666666666\n"
     ]
    }
   ],
   "source": [
    "import pandas as pd\n",
    "import numpy as np\n",
    "data = pd.read_csv('president.csv')\n",
    "heights = np.array(data['height(cm)'])\n",
    "print(heights)\n",
    "print(f'Average height : {np.mean(heights)}')  "
   ]
  },
  {
   "cell_type": "code",
   "execution_count": 9,
   "id": "b175e7b3-fea9-4a73-a570-c77e0e8e0aaa",
   "metadata": {},
   "outputs": [
    {
     "name": "stdout",
     "output_type": "stream",
     "text": [
      "[189 170 189 180 175 160 185 170 165 168 172 178 182 174 190 177 188 166\n",
      " 180 171]\n",
      "Average height : 176.45\n"
     ]
    },
    {
     "data": {
      "text/plain": [
       "Text(0, 0.5, 'number')"
      ]
     },
     "execution_count": 9,
     "metadata": {},
     "output_type": "execute_result"
    },
    {
     "data": {
      "image/png": "[encoded data removed]",
      "text/plain": [
       "<Figure size 640x480 with 1 Axes>"
      ]
     },
     "metadata": {},
     "output_type": "display_data"
    }
   ],
   "source": [
    "%matplotlib inline \n",
    "import pandas as pd\n",
    "import numpy as np\n",
    "import matplotlib.pyplot as plot\n",
    "import seaborn ; seaborn.set()\n",
    "\n",
    "data = pd.read_csv('president.csv')\n",
    "heights = np.array(data['height(cm)'])\n",
    "print(heights)\n",
    "print(f'Average height : {np.mean(heights)}')\n",
    "plot.hist(heights, histtype='barstacked')\n",
    "plot.title('Height Distribution of US Presidents')\n",
    "plot.xlabel('height (cm)')\n",
    "plot.ylabel('number')"
   ]
  },
  {
   "cell_type": "markdown",
   "id": "59476891-b6db-4065-99e5-5096d2e04355",
   "metadata": {},
   "source": [
    "### Average height of US presidents 2"
   ]
  },
  {
   "cell_type": "code",
   "execution_count": 59,
   "id": "89086327-e4bc-41cb-9744-3f38cfb144c0",
   "metadata": {},
   "outputs": [
    {
     "name": "stdout",
     "output_type": "stream",
     "text": [
      "[189 170 189 180 175 160 185 170 165 168 172 178 182 174 190 177 188 166\n",
      " 180 171]\n"
     ]
    }
   ],
   "source": [
    "import pandas as pd\n",
    "import numpy as np\n",
    "\n",
    "data = pd.read_csv('president.csv')\n",
    "heights = np.array(data['height(cm)'])\n",
    "print(heights)"
   ]
  },
  {
   "cell_type": "code",
   "execution_count": 61,
   "id": "5eca3525-2d01-4b40-955c-4fb81f5cd78e",
   "metadata": {},
   "outputs": [
    {
     "data": {
      "text/plain": [
       "Text(0, 0.5, 'number of presidents')"
      ]
     },
     "execution_count": 61,
     "metadata": {},
     "output_type": "execute_result"
    },
    {
     "data": {
      "image/png": "[encoded data removed]",
      "text/plain": [
       "<Figure size 640x480 with 1 Axes>"
      ]
     },
     "metadata": {},
     "output_type": "display_data"
    }
   ],
   "source": [
    "from matplotlib import pyplot as plot\n",
    "# import seaborn; seaborn.set()\n",
    "\n",
    "plot.hist(heights)\n",
    "plot.title(\"Heights of presidents\")\n",
    "plot.xlabel(\"Height(cm)\")\n",
    "plot.ylabel(\"number of presidents\")"
   ]
  },
  {
   "cell_type": "code",
   "execution_count": 62,
   "id": "c3b334c0-5cab-4bf1-a9c1-a641cf550529",
   "metadata": {},
   "outputs": [],
   "source": [
    "### Broadcasting (next)"
   ]
  },
  {
   "cell_type": "code",
   "execution_count": 6,
   "id": "4da00c64-96e4-4760-93dd-93d64eecdc87",
   "metadata": {},
   "outputs": [
    {
     "data": {
      "text/plain": [
       "<function linspace at 0x000002BB020378B0>"
      ]
     },
     "execution_count": 6,
     "metadata": {},
     "output_type": "execute_result"
    }
   ],
   "source": [
    "import numpy\n",
    "getattr(numpy, 'linspace')"
   ]
  },
  {
   "cell_type": "code",
   "execution_count": 7,
   "id": "0309994f-c77a-4642-8819-d98f463d1fd9",
   "metadata": {},
   "outputs": [
    {
     "data": {
      "text/plain": [
       "Text(0, 0.5, 'Number of President(s)')"
      ]
     },
     "execution_count": 7,
     "metadata": {},
     "output_type": "execute_result"
    },
    {
     "data": {
      "image/png": "[encoded data removed]",
      "text/plain": [
       "<Figure size 640x480 with 1 Axes>"
      ]
     },
     "metadata": {},
     "output_type": "display_data"
    }
   ],
   "source": [
    "import numpy as np\n",
    "import pandas as pd\n",
    "from matplotlib import pyplot as plt\n",
    "import seaborn \n",
    "\n",
    "seaborn.set()\n",
    "file = pd.read_csv('president.csv')\n",
    "data = np.array(file['height(cm)'])\n",
    "plt.title(\"Height of US presidents\")\n",
    "plt.hist(data, histtype = 'bar')\n",
    "plt.xlabel(\"Height in cm\")\n",
    "plt.ylabel(\"Number of President(s)\")"
   ]
  },
  {
   "cell_type": "code",
   "execution_count": 10,
   "id": "f272a083-5fb2-4127-b347-7966d7e17eba",
   "metadata": {},
   "outputs": [
    {
     "name": "stdout",
     "output_type": "stream",
     "text": [
      "[[0 1 2]\n",
      " [3 4 5]\n",
      " [6 7 8]]\n",
      "\n",
      "[1 4 7]\n"
     ]
    }
   ],
   "source": [
    "import numpy as np\n",
    "x = np.arange(9).reshape((3,3))\n",
    "print(x)\n",
    "print()\n",
    "y = np.hsplit(x,3)[1].flatten()\n",
    "print(y)"
   ]
  },
  {
   "cell_type": "code",
   "execution_count": 56,
   "id": "ac1aea76-291e-4561-8f9a-1acd0bc26afa",
   "metadata": {},
   "outputs": [
    {
     "name": "stdout",
     "output_type": "stream",
     "text": [
      "[[1 2 3 4]\n",
      " [5 6 7 8]\n",
      " [9 0 0 0]]\n",
      "\n"
     ]
    },
    {
     "data": {
      "text/plain": [
       "array([[1, 5, 9],\n",
       "       [2, 6, 0],\n",
       "       [3, 7, 0],\n",
       "       [4, 8, 0]])"
      ]
     },
     "execution_count": 56,
     "metadata": {},
     "output_type": "execute_result"
    }
   ],
   "source": [
    "import numpy as np\n",
    "y = np.array([[1,2,3,4],[5,6,7,8],[9,0,0,0]])\n",
    "print(y)\n",
    "print()\n",
    "y.T"
   ]
  },
  {
   "cell_type": "markdown",
   "id": "0bc5ac76-3b8e-4944-a8b5-558032266ca5",
   "metadata": {},
   "source": [
    "### Broadcasting in practice"
   ]
  },
  {
   "cell_type": "code",
   "execution_count": 67,
   "id": "134f2e4a-4fb9-43f6-b1cc-0867a9fb91fd",
   "metadata": {},
   "outputs": [
    {
     "data": {
      "text/plain": [
       "array([[[ 0,  1,  2],\n",
       "        [ 3,  4,  5],\n",
       "        [ 6,  7,  8]],\n",
       "\n",
       "       [[ 9, 10, 11],\n",
       "        [12, 13, 14],\n",
       "        [15, 16, 17]],\n",
       "\n",
       "       [[18, 19, 20],\n",
       "        [21, 22, 23],\n",
       "        [24, 25, 26]]])"
      ]
     },
     "execution_count": 67,
     "metadata": {},
     "output_type": "execute_result"
    }
   ],
   "source": [
    "x=np.arange(27).reshape((3,3,3))\n",
    "x"
   ]
  },
  {
   "cell_type": "code",
   "execution_count": 70,
   "id": "9d24882a-6497-450a-8a3f-c53dcbdb3623",
   "metadata": {},
   "outputs": [
    {
     "data": {
      "text/plain": [
       "np.float64(10.0)"
      ]
     },
     "execution_count": 70,
     "metadata": {},
     "output_type": "execute_result"
    }
   ],
   "source": [
    "y = np.mean(x[1][0])\n",
    "y"
   ]
  },
  {
   "cell_type": "code",
   "execution_count": 13,
   "id": "91d781fe-795f-401a-a3ea-1695a33fd5e0",
   "metadata": {},
   "outputs": [
    {
     "data": {
      "text/plain": [
       "array([[-0.83907153, -0.83470697, -0.8216586 , ...,  0.8956708 ,\n",
       "         0.68617261,  0.41940746],\n",
       "       [-0.83907153, -0.82902677, -0.8103873 , ...,  0.92522407,\n",
       "         0.75321348,  0.52508175],\n",
       "       [-0.83907153, -0.82325668, -0.79876457, ...,  0.96427357,\n",
       "         0.84172689,  0.66446403],\n",
       "       ...,\n",
       "       [-0.83907153, -0.48233077, -0.01646558, ...,  0.96449925,\n",
       "         0.75196531,  0.41982581],\n",
       "       [-0.83907153, -0.47324558,  0.00392612, ...,  0.92542163,\n",
       "         0.68540362,  0.37440839],\n",
       "       [-0.83907153, -0.46410908,  0.02431613, ...,  0.89579384,\n",
       "         0.65690314,  0.40107702]])"
      ]
     },
     "execution_count": 13,
     "metadata": {},
     "output_type": "execute_result"
    },
    {
     "data": {
      "image/png": "[encoded data removed]",
      "text/plain": [
       "<Figure size 640x480 with 2 Axes>"
      ]
     },
     "metadata": {},
     "output_type": "display_data"
    }
   ],
   "source": [
    "import matplotlib.pyplot as plt\n",
    "import numpy as np\n",
    "\n",
    "x = np.linspace(0, 5, 50)\n",
    "y = np.linspace(0, 5, 50).reshape((50,1))\n",
    "a =  np.linspace(0, 5, 50)[:, np.newaxis]\n",
    "# y and a prints the same results ;)\n",
    "z = np.sin(x) ** 10 + np.cos(10 + y * x) * np.cos(x)\n",
    "T = x + y\n",
    "\n",
    "plt.imshow(z, origin='lower', extent=[0, 5, 0, 5], cmap='viridis')\n",
    "plt.colorbar()\n",
    "z"
   ]
  },
  {
   "cell_type": "code",
   "execution_count": 14,
   "id": "bd93eb72-4e12-4e69-bb3d-599ea6918799",
   "metadata": {},
   "outputs": [
    {
     "name": "stdout",
     "output_type": "stream",
     "text": [
      "Days with no rain : 353\n",
      "Days with rain : 10\n",
      "Average amount of precipitation : 0.004983283890410958 inches \n",
      "[0.         0.20078751 0.12598432 0.         0.         0.04724412\n",
      " 0.         0.         0.29921276 0.16929143 0.         0.\n",
      " 0.         0.         0.         0.         0.49212625 0.09448824\n",
      " 0.         0.         0.         0.         0.06692917 0.\n",
      " 0.         0.         0.         0.         0.         0.\n",
      " 0.         0.         0.         0.19291349 0.         0.\n",
      " 0.         0.         0.         0.         0.         0.\n",
      " 0.         0.         0.         0.0393701  0.         0.\n",
      " 0.         0.         0.         0.         0.         0.\n",
      " 0.         0.         0.         0.         0.         0.\n",
      " 0.         0.         0.         0.         0.         0.\n",
      " 0.         0.         0.         0.         0.         0.\n",
      " 0.         0.         0.         0.         0.         0.\n",
      " 0.         0.         0.         0.         0.         0.\n",
      " 0.         0.         0.         0.         0.         0.\n",
      " 0.         0.         0.         0.         0.         0.\n",
      " 0.         0.         0.         0.         0.         0.\n",
      " 0.         0.         0.         0.         0.         0.\n",
      " 0.         0.         0.         0.         0.         0.\n",
      " 0.         0.         0.         0.         0.         0.\n",
      " 0.         0.         0.         0.         0.         0.\n",
      " 0.         0.         0.         0.         0.         0.\n",
      " 0.         0.         0.         0.         0.         0.\n",
      " 0.         0.         0.         0.         0.         0.\n",
      " 0.         0.         0.         0.         0.         0.\n",
      " 0.         0.         0.         0.         0.         0.\n",
      " 0.         0.         0.         0.         0.         0.\n",
      " 0.         0.         0.         0.         0.         0.\n",
      " 0.         0.         0.         0.        ]\n"
     ]
    },
    {
     "data": {
      "image/png": "[encoded data removed]",
      "text/plain": [
       "<Figure size 640x480 with 1 Axes>"
      ]
     },
     "metadata": {},
     "output_type": "display_data"
    }
   ],
   "source": [
    "import numpy as np\n",
    "import pandas as pd\n",
    "import matplotlib.pyplot as plt\n",
    "import seaborn\n",
    "\n",
    "read_raindata = pd.read_csv('datarain.csv')\n",
    "raindata = np.array(read_raindata['Precipitation (mm)'])\n",
    "raindata = raindata *  0.0393701\n",
    "raindata.shape\n",
    "seaborn.set()\n",
    "plt.title(\"Amount of Precipitation\")\n",
    "plt.hist(raindata)\n",
    "plt.xlabel(\" rainfall (inches)\")\n",
    "plt.ylabel(\"Rainy days\")\n",
    "\n",
    "# Next\n",
    "countnorain = 0\n",
    "countrain = 0\n",
    "for i in raindata:\n",
    "    if i == 0.0:\n",
    "        countnorain += 1\n",
    "    else:\n",
    "        countrain += 1\n",
    "print(f'Days with no rain : {countnorain-1}')\n",
    "print(f'Days with rain : {countrain-1}')\n",
    "\n",
    "print(f'Average amount of precipitation : {np.mean(raindata)} inches ')\n",
    "\n",
    "# Boolean values and structures as masks \n",
    "summer = raindata[0:172] # Getting / masking summer from raindata array \n",
    "\n",
    "print(summer)"
   ]
  },
  {
   "cell_type": "markdown",
   "id": "b1f3f8d2-be3c-4824-a0f0-4df50ce0c0e8",
   "metadata": {},
   "source": [
    "### Fancy Indexing "
   ]
  },
  {
   "cell_type": "code",
   "execution_count": 1,
   "id": "a9860b8e-e7ae-49e2-9e77-5dbd670676b0",
   "metadata": {},
   "outputs": [
    {
     "name": "stdout",
     "output_type": "stream",
     "text": [
      "Help on ufunc:\n",
      "\n",
      "bitwise_xor = <ufunc 'bitwise_xor'>\n",
      "    bitwise_xor(x1, x2, /, out=None, *, where=True, casting='same_kind', order='K', dtype=None, subok=True[, signature])\n",
      "\n",
      "    Compute the bit-wise XOR of two arrays element-wise.\n",
      "\n",
      "    Computes the bit-wise XOR of the underlying binary representation of\n",
      "    the integers in the input arrays. This ufunc implements the C/Python\n",
      "    operator ``^``.\n",
      "\n",
      "    Parameters\n",
      "    ----------\n",
      "    x1, x2 : array_like\n",
      "        Only integer and boolean types are handled.\n",
      "        If ``x1.shape != x2.shape``, they must be broadcastable to a common\n",
      "        shape (which becomes the shape of the output).\n",
      "    out : ndarray, None, or tuple of ndarray and None, optional\n",
      "        A location into which the result is stored. If provided, it must have\n",
      "        a shape that the inputs broadcast to. If not provided or None,\n",
      "        a freshly-allocated array is returned. A tuple (possible only as a\n",
      "        keyword argument) must have length equal to the number of outputs.\n",
      "    where : array_like, optional\n",
      "        This condition is broadcast over the input. At locations where the\n",
      "        condition is True, the `out` array will be set to the ufunc result.\n",
      "        Elsewhere, the `out` array will retain its original value.\n",
      "        Note that if an uninitialized `out` array is created via the default\n",
      "        ``out=None``, locations within it where the condition is False will\n",
      "        remain uninitialized.\n",
      "    **kwargs\n",
      "        For other keyword-only arguments, see the\n",
      "        :ref:`ufunc docs <ufuncs.kwargs>`.\n",
      "\n",
      "    Returns\n",
      "    -------\n",
      "    out : ndarray or scalar\n",
      "        Result.\n",
      "        This is a scalar if both `x1` and `x2` are scalars.\n",
      "\n",
      "    See Also\n",
      "    --------\n",
      "    logical_xor\n",
      "    bitwise_and\n",
      "    bitwise_or\n",
      "    binary_repr :\n",
      "        Return the binary representation of the input number as a string.\n",
      "\n",
      "    Examples\n",
      "    --------\n",
      "    The number 13 is represented by ``00001101``. Likewise, 17 is\n",
      "    represented by ``00010001``.  The bit-wise XOR of 13 and 17 is\n",
      "    therefore ``00011100``, or 28:\n",
      "\n",
      "    >>> np.bitwise_xor(13, 17)\n",
      "    28\n",
      "    >>> np.binary_repr(28)\n",
      "    '11100'\n",
      "\n",
      "    >>> np.bitwise_xor(31, 5)\n",
      "    26\n",
      "    >>> np.bitwise_xor([31,3], 5)\n",
      "    array([26,  6])\n",
      "\n",
      "    >>> np.bitwise_xor([31,3], [5,6])\n",
      "    array([26,  5])\n",
      "    >>> np.bitwise_xor([True, True], [False, True])\n",
      "    array([ True, False])\n",
      "\n",
      "    The ``^`` operator can be used as a shorthand for ``np.bitwise_xor`` on\n",
      "    ndarrays.\n",
      "\n",
      "    >>> x1 = np.array([True, True])\n",
      "    >>> x2 = np.array([False, True])\n",
      "    >>> x1 ^ x2\n",
      "    array([ True, False])\n",
      "\n"
     ]
    }
   ],
   "source": [
    "import numpy as np\n",
    "help(getattr(np, 'bitwise_xor' ))"
   ]
  },
  {
   "cell_type": "code",
   "execution_count": 26,
   "id": "44b858ec-534b-41dd-8509-2364e63cb935",
   "metadata": {},
   "outputs": [
    {
     "name": "stdout",
     "output_type": "stream",
     "text": [
      "[[37 12 72]\n",
      " [ 9 75  5]\n",
      " [79 64 16]]\n",
      "[[37 12 72]]\n"
     ]
    }
   ],
   "source": [
    "import random\n",
    "\n",
    "np.random.seed(1)\n",
    "x = np.random.randint(100, size=9).reshape((3,3))\n",
    "y = np.vsplit(x,3)[0]\n",
    "print(x)\n",
    "print(y)"
   ]
  },
  {
   "cell_type": "code",
   "execution_count": 30,
   "id": "a112039c-e295-4b08-a6b9-5109778b1780",
   "metadata": {},
   "outputs": [
    {
     "name": "stdout",
     "output_type": "stream",
     "text": [
      "[np.int64(2), np.int64(6), np.int64(3)]\n"
     ]
    }
   ],
   "source": [
    "# fancy indexing \n",
    "\n",
    "x = np.array([1,2,3,4,5,6,7,8,9], dtype = 'int_')\n",
    "print([x[1],x[5],x[2]]) "
   ]
  },
  {
   "cell_type": "markdown",
   "id": "cf7e10eb-c99b-4bc5-a1fb-338e9ce2d653",
   "metadata": {},
   "source": [
    "### Selecting Random Points "
   ]
  },
  {
   "cell_type": "code",
   "execution_count": 5,
   "id": "df158fdf-fdae-44fc-ace0-50bb956656d9",
   "metadata": {},
   "outputs": [
    {
     "data": {
      "image/png": "[encoded data removed]",
      "text/plain": [
       "<Figure size 640x480 with 1 Axes>"
      ]
     },
     "metadata": {},
     "output_type": "display_data"
    },
    {
     "data": {
      "text/plain": [
       "(100, 2)"
      ]
     },
     "execution_count": 5,
     "metadata": {},
     "output_type": "execute_result"
    }
   ],
   "source": [
    "import numpy as np\n",
    "import matplotlib.pyplot as plt\n",
    "import seaborn; \n",
    "seaborn.set()\n",
    "mean = [0, 0]\n",
    "cov = [[1, 2],[2, 5]]\n",
    "X = np.random.multivariate_normal(mean, cov, 100)\n",
    "x_split = np.hsplit(X,2)[0]\n",
    "y_split = np.hsplit(X,2)[1]\n",
    "x_mean = np.mean(x_split)\n",
    "y_mean =np.mean(np.hsplit(X,2)[1])\n",
    "mean_coordinates = [x_mean, y_mean]\n",
    "# print(x_mean, y_mean) \n",
    "# print(mean_coordinates)\n",
    "# print([x for x in dir(plt)])\n",
    "plt.scatter(x_split, y_split, c='yellow', marker='o', label='Multivariate solution')\n",
    "plt.scatter(x_mean, y_mean, color= 'blue', marker = 'x' ,label='Mean')\n",
    "plt.legend()\n",
    "plt.show() \n",
    "X.shape"
   ]
  },
  {
   "cell_type": "code",
   "execution_count": 6,
   "id": "2c415e73-9177-44d3-b034-b5b1770f1b17",
   "metadata": {},
   "outputs": [
    {
     "data": {
      "image/png": "[encoded data removed]",
      "text/plain": [
       "<Figure size 640x480 with 1 Axes>"
      ]
     },
     "metadata": {},
     "output_type": "display_data"
    }
   ],
   "source": [
    "%matplotlib inline \n",
    "import numpy as np\n",
    "import matplotlib.pyplot as plt\n",
    "import seaborn\n",
    "\n",
    "seaborn.set()\n",
    "# Generate sample data\n",
    "mean = [0, 0]\n",
    "cov = [[1, 2], [2, 5]]\n",
    "X = np.random.multivariate_normal(mean, cov, 100)\n",
    "x_values = np.hsplit(X, 2)[0]  # First dimension\n",
    "y_values = np.hsplit(X, 2)[1]  # Second dimension\n",
    "\n",
    "# Plot the data\n",
    "plt.scatter(x_values, y_values, c='blue', marker='o')\n",
    "\n",
    "# Determine the range for the axes\n",
    "x_min, x_max = min(x_values), max(x_values)\n",
    "y_min, y_max = min(y_values), max(y_values)\n",
    "\n",
    "# Set the number of intervals (bins) for axis ticks\n",
    "num_intervals = 10\n",
    "\n",
    "# Generate evenly spaced values for the x and y axes\n",
    "x_ticks = np.linspace(x_min, x_max, num_intervals)\n",
    "y_ticks = np.linspace(y_min, y_max, num_intervals)\n",
    "\n",
    "# Set axis limits\n",
    "plt.xlim(x_min+1, x_max+1)\n",
    "plt.ylim(y_min+1, y_max+1)\n",
    "\n",
    "# # Set axis ticks\n",
    "# plt.xticks(x_ticks[:,0])\n",
    "# plt.yticks(y_ticks[:,0])\n",
    "\n",
    "# Add labels and title\n",
    "plt.xlabel('X Values')\n",
    "plt.ylabel('Y Values')\n",
    "plt.title('Scatter Plot of X vs Y')\n",
    "plt.grid(True)\n",
    "\n",
    "# Show the plot\n",
    "plt.show()\n"
   ]
  },
  {
   "cell_type": "code",
   "execution_count": 20,
   "id": "7491b887-8c04-47bb-ac96-8c27132ecc42",
   "metadata": {},
   "outputs": [
    {
     "name": "stdout",
     "output_type": "stream",
     "text": [
      "(100, 2)\n"
     ]
    },
    {
     "data": {
      "text/plain": [
       "100"
      ]
     },
     "execution_count": 20,
     "metadata": {},
     "output_type": "execute_result"
    },
    {
     "data": {
      "image/png": "[encoded data removed]",
      "text/plain": [
       "<Figure size 640x480 with 1 Axes>"
      ]
     },
     "metadata": {},
     "output_type": "display_data"
    }
   ],
   "source": [
    "import numpy as np\n",
    "from matplotlib import pyplot as plt\n",
    "import seaborn; seaborn.set()\n",
    "\n",
    "mean = [0,0]\n",
    "cov = [[1,2],[2,5]]\n",
    "x = np.random.multivariate_normal(mean,cov,100)\n",
    "print(x.shape)\n",
    "plt.scatter(x[:, 0],x[:,1])\n",
    "indices = np.random.choice(x.shape[0],20,replace=True)\n",
    "selection = x[indices] \n",
    "plt.scatter(selection[:,0],selection[:,1])\n",
    "indices\n",
    "\n",
    "x.shape[0]"
   ]
  },
  {
   "cell_type": "markdown",
   "id": "62c919c4-0149-42b6-9970-e5fcc893721f",
   "metadata": {},
   "source": [
    "### Modifying values with fancy indexing "
   ]
  },
  {
   "cell_type": "code",
   "execution_count": 11,
   "id": "5ff721ad-79e0-4e8f-b478-21c7efedb9f1",
   "metadata": {},
   "outputs": [
    {
     "data": {
      "text/plain": [
       "array([ 0, 89, 89, 89, 89,  5,  6,  7,  8,  9])"
      ]
     },
     "execution_count": 11,
     "metadata": {},
     "output_type": "execute_result"
    }
   ],
   "source": [
    "x = np.arange(10)\n",
    "i = np.array([1,2,3,4])\n",
    "x[i]=99\n",
    "x[i] -= 10\n",
    "x"
   ]
  },
  {
   "cell_type": "code",
   "execution_count": 12,
   "id": "12dfc67e-3cef-420f-ae59-d36598d5f860",
   "metadata": {},
   "outputs": [
    {
     "data": {
      "text/plain": [
       "array([0., 1., 1., 1., 1., 0., 0., 0., 0., 0.])"
      ]
     },
     "execution_count": 12,
     "metadata": {},
     "output_type": "execute_result"
    }
   ],
   "source": [
    "x = np.zeros(10)\n",
    "np.add.at(x,i,1)\n",
    "x"
   ]
  },
  {
   "cell_type": "markdown",
   "id": "42478881-a809-47b4-9a69-82616590d7fe",
   "metadata": {},
   "source": [
    "### Binning data"
   ]
  },
  {
   "cell_type": "code",
   "execution_count": 18,
   "id": "62183440-3dd2-49e4-b6db-5a921ed4d3bd",
   "metadata": {},
   "outputs": [
    {
     "data": {
      "image/png": "[encoded data removed]",
      "text/plain": [
       "<Figure size 640x480 with 1 Axes>"
      ]
     },
     "metadata": {},
     "output_type": "display_data"
    }
   ],
   "source": [
    "import numpy as np\n",
    "from matplotlib import pyplot as plt\n",
    "import seaborn; seaborn.set()\n",
    "\n",
    "np.random.seed(42)\n",
    "x = np.random.randn(100)  # Generating random values in a array \n",
    "bins = np.linspace(-5,5,20)\n",
    "plt.hist(x,bins,histtype='step')\n",
    "plt.grid(True)\n",
    "plt.show()"
   ]
  },
  {
   "cell_type": "markdown",
   "id": "ada586e3-a431-402f-a121-7aac3ee8ff08",
   "metadata": {},
   "source": [
    "### sorting Arrays "
   ]
  },
  {
   "cell_type": "code",
   "execution_count": 8,
   "id": "802c3225-9fb2-481d-ab0a-b0bf5f9d529c",
   "metadata": {},
   "outputs": [
    {
     "data": {
      "text/plain": [
       "array([1, 2, 3, 4, 5, 6])"
      ]
     },
     "execution_count": 8,
     "metadata": {},
     "output_type": "execute_result"
    }
   ],
   "source": [
    "import numpy as np \n",
    "a =np.array([1,3,4,5,2,6])\n",
    "b = np.sort(a)\n",
    "b"
   ]
  },
  {
   "cell_type": "code",
   "execution_count": 11,
   "id": "3dff9bb1-bbd8-4a82-a6b2-f52f343adddb",
   "metadata": {},
   "outputs": [
    {
     "data": {
      "text/plain": [
       "array([[2, 1, 4, 0, 1, 5],\n",
       "       [5, 2, 5, 4, 3, 7],\n",
       "       [6, 3, 7, 4, 6, 7],\n",
       "       [7, 6, 7, 4, 9, 9]], dtype=int32)"
      ]
     },
     "execution_count": 11,
     "metadata": {},
     "output_type": "execute_result"
    }
   ],
   "source": [
    "np.random.seed(42)\n",
    "x = np.random.randint(0,10,(4,6))\n",
    "np.sort(x, axis=0)  # Sorting columns using axis = 0 , for row, axis = 1"
   ]
  },
  {
   "cell_type": "code",
   "execution_count": 17,
   "id": "26919805-dbc6-4e31-a31a-ee8ba667c822",
   "metadata": {},
   "outputs": [
    {
     "data": {
      "image/png": "[encoded data removed]",
      "text/plain": [
       "<Figure size 640x480 with 1 Axes>"
      ]
     },
     "metadata": {},
     "output_type": "display_data"
    }
   ],
   "source": [
    "import numpy as np\n",
    "import matplotlib.pyplot as plt\n",
    "import seaborn; seaborn.set() \n",
    "np.random.seed(0)\n",
    "x = np.random.randn(20).reshape(10,2)\n",
    "plt.scatter(x[:,0],x[:,1]) \n",
    "plt.show()"
   ]
  },
  {
   "cell_type": "code",
   "execution_count": 59,
   "id": "ca1be131-6ad0-4b4e-aaa9-222df4016b48",
   "metadata": {},
   "outputs": [
    {
     "data": {
      "image/png": "[encoded data removed]",
      "text/plain": [
       "<Figure size 640x480 with 1 Axes>"
      ]
     },
     "metadata": {},
     "output_type": "display_data"
    }
   ],
   "source": [
    "import numpy as np\n",
    "import matplotlib.pyplot as plt\n",
    "import seaborn; seaborn.set() \n",
    "from scipy.spatial import distance\n",
    "\n",
    "# Set seed for reproducibility\n",
    "np.random.seed(0)\n",
    "\n",
    "# Generate data\n",
    "x = np.random.randn(20).reshape(10, 2)\n",
    "\n",
    "# Define distance function\n",
    "def euclidean_distance(point1, point2):\n",
    "    return distance.euclidean(point1, point2)\n",
    "\n",
    "# Function to find nearest neighbors\n",
    "def find_nearest_neighbors(x, point_index, k):\n",
    "    distances = []\n",
    "    for i, point in enumerate(x):\n",
    "        if i != point_index: \n",
    "            dist = euclidean_distance(x[point_index], point)\n",
    "            distances.append((i, dist))\n",
    "    distances.sort(key=lambda x: x[1])\n",
    "    return [idx for idx, dist in distances[:k]]\n",
    "\n",
    "# Plot function for nearest neighbors\n",
    "def plot_knn(x, point_index, k):\n",
    "    neighbors = find_nearest_neighbors(x, point_index, k)\n",
    "    plt.scatter(x[:,0], x[:,1], color='blue', label='Points')\n",
    "    plt.scatter(x[point_index, 0], x[point_index, 1], color='red', label='Query Point', marker='x')\n",
    "    plt.scatter(x[neighbors, 0], x[neighbors, 1], color='green', label='Nearest Neighbors', marker='o')\n",
    "    plt.legend()\n",
    "    plt.show()\n",
    "\n",
    "# Example usage\n",
    "plot_knn(x, point_index=0, k=4)\n",
    "# Credit Chatgpt // Would learn from this "
   ]
  },
  {
   "cell_type": "markdown",
   "id": "a970ef08-3f85-49fe-a8e4-906045a68189",
   "metadata": {},
   "source": [
    "### Numpy Structured Arrays "
   ]
  },
  {
   "cell_type": "code",
   "execution_count": 144,
   "id": "6c9982ac-18aa-4a33-8df9-a1ec052a1bbc",
   "metadata": {},
   "outputs": [
    {
     "data": {
      "text/plain": [
       "[(np.str_('Alice'), np.str_('25'), np.str_('55.0')),\n",
       " (np.str_('Bob'), np.str_('45'), np.str_('85.5')),\n",
       " (np.str_('Cathy'), np.str_('37'), np.str_('68.0')),\n",
       " (np.str_('Doug'), np.str_('19'), np.str_('61.5'))]"
      ]
     },
     "execution_count": 144,
     "metadata": {},
     "output_type": "execute_result"
    }
   ],
   "source": [
    "import numpy as np\n",
    "\n",
    "name = ['Alice', 'Bob', 'Cathy', 'Doug']\n",
    "age = [25, 45, 37, 19]\n",
    "weight = [55.0, 85.5, 68.0, 61.5]\n",
    "\n",
    "total = name + age + weight\n",
    "total\n",
    "my_array = np.array(total).reshape((3,4))\n",
    "# my_array = np.hsplit(my_array,4)\n",
    "# first_data = np.hsplit(my_array,4)[0].reshape((1,3)).flatten()\n",
    "# print(first_data)\n",
    "# second_data = np.hsplit(my_array,4)[1].reshape((1,3)).flatten()\n",
    "# print(second_data)\n",
    "# third_data = np.hsplit(my_array,4)[2].reshape((1,3)).flatten()\n",
    "# print(third_data)\n",
    "# fourth_data = np.hsplit(my_array,4)[3].reshape((1,3)).flatten()\n",
    "# print(fourth_data)\n",
    "# new_array = np.array([first_data,second_data,third_data,fourth_data])\n",
    "new_array = []\n",
    "for i in range(len(np.hsplit(my_array,4))):\n",
    "    new_array.append(tuple(np.hsplit(my_array,4)[i].reshape((1,3)).flatten()))\n",
    "    \n",
    "new_array\n"
   ]
  },
  {
   "cell_type": "code",
   "execution_count": 134,
   "id": "ccd52d41-4b2f-43ce-a8e4-232e0f6806d8",
   "metadata": {},
   "outputs": [
    {
     "data": {
      "text/plain": [
       "array([('Alice', 25, 55. ), ('Bob', 45, 85.5), ('Cathy', 37, 68. ),\n",
       "       ('Doug', 19, 61.5)],\n",
       "      dtype=[('name', '<U10'), ('age', '<i8'), ('weight', '<f4')])"
      ]
     },
     "execution_count": 134,
     "metadata": {},
     "output_type": "execute_result"
    }
   ],
   "source": [
    "import numpy as np\n",
    "name = ['Alice', 'Bob', 'Cathy', 'Doug']\n",
    "age = [25, 45, 37, 19]\n",
    "weight = [55.0, 85.5, 68.0, 61.5]\n",
    "\n",
    "data = np.zeros(4, dtype = {\n",
    "    'names': ('name', 'age', 'weight'),\n",
    "    'formats': ('U10', 'int_', 'float32')\n",
    "})\n",
    "data['name'] = name\n",
    "data['age'] = age\n",
    "data['weight'] = weight\n",
    "\n",
    "data"
   ]
  },
  {
   "cell_type": "markdown",
   "id": "5e115ef9-6e0d-4139-abd4-90cc99b11331",
   "metadata": {},
   "source": [
    "### RecordArrays"
   ]
  },
  {
   "cell_type": "code",
   "execution_count": 30,
   "id": "16b94426-476b-4821-8e42-7563c3b7f96c",
   "metadata": {},
   "outputs": [
    {
     "data": {
      "text/plain": [
       "array([('Alice', 25, 55. ), ('Bob', 45, 85.5), ('Cathy', 37, 68. ),\n",
       "       ('Doug', 19, 61.5)],\n",
       "      dtype=[('name', '<U10'), ('age', '<i4'), ('weight', '<f8')])"
      ]
     },
     "execution_count": 30,
     "metadata": {},
     "output_type": "execute_result"
    }
   ],
   "source": [
    "import numpy as np\n",
    "\n",
    "mytype = np.dtype([('name','U10'),('age','i4'),('weight','f8')])\n",
    "\n",
    "my_array = np.zeros(4, dtype = mytype)\n",
    "\n",
    "name = ['Alice', 'Bob', 'Cathy', 'Doug']\n",
    "age = [25, 45, 37, 19]\n",
    "weight = [55.0, 85.5, 68.0, 61.5]\n",
    "\n",
    "# my_array = name, age, weight\n",
    "my_array['name'] = name\n",
    "my_array['age'] = age\n",
    "my_array['weight'] = weight\n",
    "\n",
    "my_array"
   ]
  },
  {
   "cell_type": "code",
   "execution_count": 21,
   "id": "557d8ad3-f18d-4a07-a32e-b89f32f14b40",
   "metadata": {},
   "outputs": [
    {
     "name": "stdout",
     "output_type": "stream",
     "text": [
      "176.45\n"
     ]
    },
    {
     "data": {
      "image/png": "[encoded data removed]",
      "text/plain": [
       "<Figure size 640x480 with 1 Axes>"
      ]
     },
     "metadata": {},
     "output_type": "display_data"
    }
   ],
   "source": [
    "import numpy as np\n",
    "import pandas as pd\n",
    "from matplotlib import pyplot as plt\n",
    "import seaborn\n",
    "\n",
    "seaborn.set()\n",
    "file = pd.read_csv('president.csv')\n",
    "data = np.array(file['height(cm)'])\n",
    "maxi = np.max(data)\n",
    "mini = np.min(data) \n",
    "bin_data = np.linspace(mini, maxi, len(data))\n",
    "plt.hist(data, bin_data , histtype=\"bar\")\n",
    "print(np.mean(data)) "
   ]
  },
  {
   "cell_type": "markdown",
   "id": "5cea7155-e1e1-41af-a6a5-cc2177be2c1d",
   "metadata": {},
   "source": [
    "### Exercise "
   ]
  },
  {
   "cell_type": "code",
   "execution_count": 7,
   "id": "1342c9cb-f5d3-4ab4-9c8a-d877ecfa94e1",
   "metadata": {},
   "outputs": [
    {
     "data": {
      "text/html": [
       "<div>\n",
       "<style scoped>\n",
       "    .dataframe tbody tr th:only-of-type {\n",
       "        vertical-align: middle;\n",
       "    }\n",
       "\n",
       "    .dataframe tbody tr th {\n",
       "        vertical-align: top;\n",
       "    }\n",
       "\n",
       "    .dataframe thead th {\n",
       "        text-align: right;\n",
       "    }\n",
       "</style>\n",
       "<table border=\"1\" class=\"dataframe\">\n",
       "  <thead>\n",
       "    <tr style=\"text-align: right;\">\n",
       "      <th></th>\n",
       "      <th>Meal Name</th>\n",
       "      <th>Origin</th>\n",
       "      <th>Tags</th>\n",
       "    </tr>\n",
       "  </thead>\n",
       "  <tbody>\n",
       "    <tr>\n",
       "      <th>2</th>\n",
       "      <td>Tamiya</td>\n",
       "      <td>Egyptian</td>\n",
       "      <td>None</td>\n",
       "    </tr>\n",
       "    <tr>\n",
       "      <th>3</th>\n",
       "      <td>Lasagne</td>\n",
       "      <td>Italian</td>\n",
       "      <td>None</td>\n",
       "    </tr>\n",
       "    <tr>\n",
       "      <th>4</th>\n",
       "      <td>Kafteji</td>\n",
       "      <td>Tunisian</td>\n",
       "      <td>None</td>\n",
       "    </tr>\n",
       "    <tr>\n",
       "      <th>6</th>\n",
       "      <td>Big Mac</td>\n",
       "      <td>American</td>\n",
       "      <td>None</td>\n",
       "    </tr>\n",
       "    <tr>\n",
       "      <th>7</th>\n",
       "      <td>Koshari</td>\n",
       "      <td>Egyptian</td>\n",
       "      <td>None</td>\n",
       "    </tr>\n",
       "    <tr>\n",
       "      <th>11</th>\n",
       "      <td>Moussaka</td>\n",
       "      <td>Greek</td>\n",
       "      <td>None</td>\n",
       "    </tr>\n",
       "    <tr>\n",
       "      <th>13</th>\n",
       "      <td>Shawarma</td>\n",
       "      <td>Egyptian</td>\n",
       "      <td>None</td>\n",
       "    </tr>\n",
       "    <tr>\n",
       "      <th>21</th>\n",
       "      <td>Ma Po Tofu</td>\n",
       "      <td>Chinese</td>\n",
       "      <td>None</td>\n",
       "    </tr>\n",
       "    <tr>\n",
       "      <th>22</th>\n",
       "      <td>Coq au vin</td>\n",
       "      <td>French</td>\n",
       "      <td>None</td>\n",
       "    </tr>\n",
       "    <tr>\n",
       "      <th>23</th>\n",
       "      <td>Nasi lemak</td>\n",
       "      <td>Malaysian</td>\n",
       "      <td>None</td>\n",
       "    </tr>\n",
       "    <tr>\n",
       "      <th>24</th>\n",
       "      <td>Apam balik</td>\n",
       "      <td>Malaysian</td>\n",
       "      <td>None</td>\n",
       "    </tr>\n",
       "    <tr>\n",
       "      <th>25</th>\n",
       "      <td>Beef Asado</td>\n",
       "      <td>Filipino</td>\n",
       "      <td>None</td>\n",
       "    </tr>\n",
       "  </tbody>\n",
       "</table>\n",
       "</div>"
      ],
      "text/plain": [
       "     Meal Name     Origin  Tags\n",
       "2       Tamiya   Egyptian  None\n",
       "3      Lasagne    Italian  None\n",
       "4      Kafteji   Tunisian  None\n",
       "6      Big Mac   American  None\n",
       "7      Koshari   Egyptian  None\n",
       "11    Moussaka      Greek  None\n",
       "13    Shawarma   Egyptian  None\n",
       "21  Ma Po Tofu    Chinese  None\n",
       "22  Coq au vin     French  None\n",
       "23  Nasi lemak  Malaysian  None\n",
       "24  Apam balik  Malaysian  None\n",
       "25  Beef Asado   Filipino  None"
      ]
     },
     "execution_count": 7,
     "metadata": {},
     "output_type": "execute_result"
    }
   ],
   "source": [
    "import pandas as pd\n",
    "import numpy as np\n",
    "\n",
    "file = pd.read_json('food_data.json')\n",
    "data = np.array(file['meals'])\n",
    "# print(data)\n",
    "my_array = []  \n",
    "for i ,row in enumerate(data):\n",
    "    my_array.append([row['strMeal'], row['strArea'],row['strTags'],(i+1)])\n",
    "my_array = np.array(my_array)\n",
    "index_array = np.arange(len(my_array))\n",
    "index_array += 1 \n",
    "my_array[:,0]\n",
    "my_dataframe = pd.DataFrame({'Meal Name':my_array[:,0], 'Origin':my_array[:,1], 'Tags':my_array[:,2]}, index=index_array)\n",
    "my_dataframe.loc[my_dataframe['Tags'].isnull()] "
   ]
  },
  {
   "cell_type": "code",
   "execution_count": 65,
   "id": "c08bcd67-1ab6-411f-9cec-6b3ff87a2dcd",
   "metadata": {},
   "outputs": [
    {
     "data": {
      "text/html": [
       "<div>\n",
       "<style scoped>\n",
       "    .dataframe tbody tr th:only-of-type {\n",
       "        vertical-align: middle;\n",
       "    }\n",
       "\n",
       "    .dataframe tbody tr th {\n",
       "        vertical-align: top;\n",
       "    }\n",
       "\n",
       "    .dataframe thead th {\n",
       "        text-align: right;\n",
       "    }\n",
       "</style>\n",
       "<table border=\"1\" class=\"dataframe\">\n",
       "  <thead>\n",
       "    <tr style=\"text-align: right;\">\n",
       "      <th></th>\n",
       "      <th>Food</th>\n",
       "      <th>Ingredients</th>\n",
       "    </tr>\n",
       "  </thead>\n",
       "  <tbody>\n",
       "    <tr>\n",
       "      <th>1</th>\n",
       "      <td>Corba</td>\n",
       "      <td>'Lentils' 'Onion' 'Carrots' 'Tomato Puree' 'Cumin' 'Paprika' 'Mint' 'Thyme' 'Black Pepper' 'Red Pepper Flakes' 'Vegetable Stock' 'Water' 'Sea Salt' '' '' '' '' '' '' ''</td>\n",
       "    </tr>\n",
       "    <tr>\n",
       "      <th>2</th>\n",
       "      <td>Tamiya</td>\n",
       "      <td>'Broad Beans' 'Spring Onions' 'Garlic Clove' 'Parsley' 'Cumin' 'Baking Powder' 'Cayenne Pepper' 'Flour' 'Vegetable Oil' '' '' '' '' '' '' '' '' '' '' ''</td>\n",
       "    </tr>\n",
       "    <tr>\n",
       "      <th>3</th>\n",
       "      <td>Lasagne</td>\n",
       "      <td>'Olive Oil' 'Bacon' 'Onion' 'Celery' 'Carrots' 'Garlic' 'Minced Beef' 'Tomato Puree' 'Chopped Tomatoes' 'Honey' 'Lasagne Sheets' 'Creme Fraiche' 'Mozzarella Balls' 'Parmesan Cheese' 'Basil Leaves' '' '' '' '' ''</td>\n",
       "    </tr>\n",
       "    <tr>\n",
       "      <th>4</th>\n",
       "      <td>Kafteji</td>\n",
       "      <td>'Potatoes' 'Olive Oil' 'Green Pepper' 'Onions' 'Ras el hanout' 'Pumpkin' 'Eggs' 'Salt' 'Pepper' '' '' '' '' '' '' '' '' '' '' ''</td>\n",
       "    </tr>\n",
       "    <tr>\n",
       "      <th>5</th>\n",
       "      <td>Dal fry</td>\n",
       "      <td>'Toor dal' 'Water' 'Salt' 'Turmeric' 'Ghee' 'Chopped tomatoes' 'Cumin seeds' 'Mustard Seeds' 'Bay Leaf' 'Green Chili' 'Ginger' 'Cilantro' 'Red Pepper' 'Salt' 'Sugar' 'Garam Masala' '' '' '' ''</td>\n",
       "    </tr>\n",
       "    <tr>\n",
       "      <th>6</th>\n",
       "      <td>Big Mac</td>\n",
       "      <td>'Minced Beef' 'Olive Oil' 'Sesame Seed Burger Buns' 'Onion' 'Iceberg Lettuce' 'Cheese' 'Dill Pickles' 'Mayonnaise' 'White Wine Vinegar' 'Pepper' 'Mustard' 'Onion Salt' 'Garlic Powder' 'Paprika' '' '' '' '' '' ''</td>\n",
       "    </tr>\n",
       "    <tr>\n",
       "      <th>7</th>\n",
       "      <td>Koshari</td>\n",
       "      <td>'Brown Lentils' 'Rice' 'Coriander' 'Macaroni' 'Chickpeas' 'Onion' 'Salt' 'Vegetable Oil' '' '' '' '' '' '' '' '' '' '' '' ''</td>\n",
       "    </tr>\n",
       "    <tr>\n",
       "      <th>8</th>\n",
       "      <td>Kapsalon</td>\n",
       "      <td>'Fries' 'Doner Meat' 'Garlic sauce' 'Hotsauce' 'Lettuce' 'Tomato' 'Cucumber' 'Gouda cheese' '' '' '' '' '' '' '' None None None None None</td>\n",
       "    </tr>\n",
       "    <tr>\n",
       "      <th>9</th>\n",
       "      <td>Stamppot</td>\n",
       "      <td>'Potatoes' 'Bay Leaf' 'Shallots' 'Butter' 'Kale' 'Sausages' 'Milk' 'Nutmeg' 'Salt' 'Pepper' '' '' '' '' '' '' '' '' '' ''</td>\n",
       "    </tr>\n",
       "    <tr>\n",
       "      <th>10</th>\n",
       "      <td>Flamiche</td>\n",
       "      <td>'Butter' 'Leek' 'Salt' 'Creme Fraiche' 'Egg' 'Egg Yolks' 'Nutmeg' 'Plain Flour' 'Salt' 'Butter' 'Lard' 'Cheddar Cheese' 'Water' '' '' '' '' '' '' ''</td>\n",
       "    </tr>\n",
       "    <tr>\n",
       "      <th>11</th>\n",
       "      <td>Moussaka</td>\n",
       "      <td>'Beef' 'Aubergine' 'Greek Yogurt' 'Egg' 'Parmesan' 'Tomato' 'Tomato Puree' 'Potatoes' '' '' '' '' '' '' '' '' '' '' '' ''</td>\n",
       "    </tr>\n",
       "    <tr>\n",
       "      <th>12</th>\n",
       "      <td>Pancakes</td>\n",
       "      <td>'Flour' 'Eggs' 'Milk' 'Sunflower Oil' 'Sugar' 'Raspberries' 'Blueberries' '' '' '' '' '' '' '' '' '' '' '' '' ''</td>\n",
       "    </tr>\n",
       "    <tr>\n",
       "      <th>13</th>\n",
       "      <td>Shawarma</td>\n",
       "      <td>'Chicken Thighs' 'Coriander' 'Cumin' 'Cardamom' 'Cayenne Pepper' 'Paprika' 'Lemon Juice' 'Olive Oil' 'Greek Yogurt' 'Garlic Clove' 'Cumin' 'Lemon Juice' 'Lettuce' 'Tomato' 'Pita Bread' '' '' '' '' ''</td>\n",
       "    </tr>\n",
       "    <tr>\n",
       "      <th>14</th>\n",
       "      <td>Shakshuka</td>\n",
       "      <td>'Olive Oil' 'Red Onions' 'Red Chilli' 'Garlic' 'Coriander' 'Cherry Tomatoes' 'Caster Sugar' 'Eggs' 'Feta' '' '' '' '' '' '' '' '' '' '' ''</td>\n",
       "    </tr>\n",
       "    <tr>\n",
       "      <th>15</th>\n",
       "      <td>Yaki Udon</td>\n",
       "      <td>'Udon Noodles' 'Sesame Seed Oil' 'Onion' 'Cabbage' 'Shiitake Mushrooms' 'Spring Onions' 'Mirin' 'Soy Sauce' 'Caster Sugar' 'Worcestershire Sauce' '' '' '' '' '' '' '' '' '' ''</td>\n",
       "    </tr>\n",
       "    <tr>\n",
       "      <th>16</th>\n",
       "      <td>Ribollita</td>\n",
       "      <td>'Olive Oil' 'Onion' 'Carrot' 'Celery' 'Garlic' 'Cannellini Beans' 'Canned tomatoes' 'Water' 'Rosemary' 'Thyme' 'Kale' 'Wholegrain Bread' 'Red Onion' 'Parmesan' '' '' '' '' '' ''</td>\n",
       "    </tr>\n",
       "    <tr>\n",
       "      <th>17</th>\n",
       "      <td>Sugar Pie</td>\n",
       "      <td>'Brown Sugar' 'Butter' 'Eggs' 'Vanilla Extract' 'Salt' 'Plain Flour' 'Milk' '' '' '' '' '' '' '' '' '' '' '' '' ''</td>\n",
       "    </tr>\n",
       "    <tr>\n",
       "      <th>18</th>\n",
       "      <td>Rock Cakes</td>\n",
       "      <td>'Self-raising Flour' 'Caster Sugar' 'Baking Powder' 'Butter' 'Dried Fruit' 'Eggs' 'Milk' 'Vanilla Extract' '' '' '' '' '' '' '' '' '' '' '' ''</td>\n",
       "    </tr>\n",
       "    <tr>\n",
       "      <th>19</th>\n",
       "      <td>Pad See Ew</td>\n",
       "      <td>'rice stick noodles' 'dark soy sauce' 'oyster sauce' 'soy sauce' 'white vinegar' 'sugar' 'water' 'peanut oil' 'garlic' 'Chicken' 'Egg' 'Chinese broccoli' '' '' '' None None None None None</td>\n",
       "    </tr>\n",
       "    <tr>\n",
       "      <th>20</th>\n",
       "      <td>Rappie Pie</td>\n",
       "      <td>'Butter' 'Onions' 'Chicken Stock' 'Chicken Breast' 'Potatoes' 'Salt' 'Black Pepper' '' '' '' '' '' '' '' '' '' '' '' '' ''</td>\n",
       "    </tr>\n",
       "    <tr>\n",
       "      <th>21</th>\n",
       "      <td>Ma Po Tofu</td>\n",
       "      <td>'Tofu' 'Minced Beef' 'Sesame Seed Oil' 'Doubanjiang' 'Fermented Black Beans' 'Pepper' 'Salt' 'Sichuan pepper' 'Soy Sauce' 'Water' 'Olive Oil' 'Scallions' 'Spring Onions' 'Garlic' 'Ginger' 'Water' 'Cornstarch' '' '' ''</td>\n",
       "    </tr>\n",
       "    <tr>\n",
       "      <th>22</th>\n",
       "      <td>Coq au vin</td>\n",
       "      <td>'Olive Oil' 'Bacon' 'Shallots' 'Chicken Legs' 'Chicken Thighs' 'Chicken Breasts' 'Garlic' 'Brandy' 'Red Wine' 'Chicken Stock' 'tomato puree' 'thyme' 'Rosemary' 'bay leaves' 'parsley' 'chestnut mushroom' 'plain flour' 'butter' '' ''</td>\n",
       "    </tr>\n",
       "    <tr>\n",
       "      <th>23</th>\n",
       "      <td>Nasi lemak</td>\n",
       "      <td>'Coconut Milk' 'Water' 'Ginger Paste' 'Ginger' 'Bay Leaf' 'Rice' 'Eggs' 'Cucumber' 'Peanuts' 'Anchovy Fillet' 'Vegetable Oil' 'Onion' 'Garlic' 'Shallots' 'Chilli Powder' 'Anchovy Fillet' 'Sugar' 'Tamarind Paste' '' ''</td>\n",
       "    </tr>\n",
       "    <tr>\n",
       "      <th>24</th>\n",
       "      <td>Apam balik</td>\n",
       "      <td>'Milk' 'Oil' 'Eggs' 'Flour' 'Baking Powder' 'Salt' 'Unsalted Butter' 'Sugar' 'Peanut Butter' '' '' '' '' '' '' '' '' '' '' ''</td>\n",
       "    </tr>\n",
       "    <tr>\n",
       "      <th>25</th>\n",
       "      <td>Beef Asado</td>\n",
       "      <td>['Beef' 'Beef Stock Concentrate' 'Tomato Puree' 'Water' 'Soy Sauce'\\n 'White Wine Vinegar' 'Pepper' 'Bay Leaf' 'Lemon' 'Tomato Sauce' 'Butter'\\n 'Olive Oil' 'Onion' 'Garlic' '' '' '' '' '' '']</td>\n",
       "    </tr>\n",
       "  </tbody>\n",
       "</table>\n",
       "</div>"
      ],
      "text/plain": [
       "          Food  \\\n",
       "1        Corba   \n",
       "2       Tamiya   \n",
       "3      Lasagne   \n",
       "4      Kafteji   \n",
       "5      Dal fry   \n",
       "6      Big Mac   \n",
       "7      Koshari   \n",
       "8     Kapsalon   \n",
       "9     Stamppot   \n",
       "10    Flamiche   \n",
       "11    Moussaka   \n",
       "12    Pancakes   \n",
       "13    Shawarma   \n",
       "14   Shakshuka   \n",
       "15   Yaki Udon   \n",
       "16   Ribollita   \n",
       "17   Sugar Pie   \n",
       "18  Rock Cakes   \n",
       "19  Pad See Ew   \n",
       "20  Rappie Pie   \n",
       "21  Ma Po Tofu   \n",
       "22  Coq au vin   \n",
       "23  Nasi lemak   \n",
       "24  Apam balik   \n",
       "25  Beef Asado   \n",
       "\n",
       "                                                                                                                                                                                                                                Ingredients  \n",
       "1                                                                  'Lentils' 'Onion' 'Carrots' 'Tomato Puree' 'Cumin' 'Paprika' 'Mint' 'Thyme' 'Black Pepper' 'Red Pepper Flakes' 'Vegetable Stock' 'Water' 'Sea Salt' '' '' '' '' '' '' ''  \n",
       "2                                                                                  'Broad Beans' 'Spring Onions' 'Garlic Clove' 'Parsley' 'Cumin' 'Baking Powder' 'Cayenne Pepper' 'Flour' 'Vegetable Oil' '' '' '' '' '' '' '' '' '' '' ''  \n",
       "3                       'Olive Oil' 'Bacon' 'Onion' 'Celery' 'Carrots' 'Garlic' 'Minced Beef' 'Tomato Puree' 'Chopped Tomatoes' 'Honey' 'Lasagne Sheets' 'Creme Fraiche' 'Mozzarella Balls' 'Parmesan Cheese' 'Basil Leaves' '' '' '' '' ''  \n",
       "4                                                                                                          'Potatoes' 'Olive Oil' 'Green Pepper' 'Onions' 'Ras el hanout' 'Pumpkin' 'Eggs' 'Salt' 'Pepper' '' '' '' '' '' '' '' '' '' '' ''  \n",
       "5                                          'Toor dal' 'Water' 'Salt' 'Turmeric' 'Ghee' 'Chopped tomatoes' 'Cumin seeds' 'Mustard Seeds' 'Bay Leaf' 'Green Chili' 'Ginger' 'Cilantro' 'Red Pepper' 'Salt' 'Sugar' 'Garam Masala' '' '' '' ''  \n",
       "6                       'Minced Beef' 'Olive Oil' 'Sesame Seed Burger Buns' 'Onion' 'Iceberg Lettuce' 'Cheese' 'Dill Pickles' 'Mayonnaise' 'White Wine Vinegar' 'Pepper' 'Mustard' 'Onion Salt' 'Garlic Powder' 'Paprika' '' '' '' '' '' ''  \n",
       "7                                                                                                              'Brown Lentils' 'Rice' 'Coriander' 'Macaroni' 'Chickpeas' 'Onion' 'Salt' 'Vegetable Oil' '' '' '' '' '' '' '' '' '' '' '' ''  \n",
       "8                                                                                                 'Fries' 'Doner Meat' 'Garlic sauce' 'Hotsauce' 'Lettuce' 'Tomato' 'Cucumber' 'Gouda cheese' '' '' '' '' '' '' '' None None None None None  \n",
       "9                                                                                                                 'Potatoes' 'Bay Leaf' 'Shallots' 'Butter' 'Kale' 'Sausages' 'Milk' 'Nutmeg' 'Salt' 'Pepper' '' '' '' '' '' '' '' '' '' ''  \n",
       "10                                                                                     'Butter' 'Leek' 'Salt' 'Creme Fraiche' 'Egg' 'Egg Yolks' 'Nutmeg' 'Plain Flour' 'Salt' 'Butter' 'Lard' 'Cheddar Cheese' 'Water' '' '' '' '' '' '' ''  \n",
       "11                                                                                                                'Beef' 'Aubergine' 'Greek Yogurt' 'Egg' 'Parmesan' 'Tomato' 'Tomato Puree' 'Potatoes' '' '' '' '' '' '' '' '' '' '' '' ''  \n",
       "12                                                                                                                         'Flour' 'Eggs' 'Milk' 'Sunflower Oil' 'Sugar' 'Raspberries' 'Blueberries' '' '' '' '' '' '' '' '' '' '' '' '' ''  \n",
       "13                                  'Chicken Thighs' 'Coriander' 'Cumin' 'Cardamom' 'Cayenne Pepper' 'Paprika' 'Lemon Juice' 'Olive Oil' 'Greek Yogurt' 'Garlic Clove' 'Cumin' 'Lemon Juice' 'Lettuce' 'Tomato' 'Pita Bread' '' '' '' '' ''  \n",
       "14                                                                                               'Olive Oil' 'Red Onions' 'Red Chilli' 'Garlic' 'Coriander' 'Cherry Tomatoes' 'Caster Sugar' 'Eggs' 'Feta' '' '' '' '' '' '' '' '' '' '' ''  \n",
       "15                                                          'Udon Noodles' 'Sesame Seed Oil' 'Onion' 'Cabbage' 'Shiitake Mushrooms' 'Spring Onions' 'Mirin' 'Soy Sauce' 'Caster Sugar' 'Worcestershire Sauce' '' '' '' '' '' '' '' '' '' ''  \n",
       "16                                                        'Olive Oil' 'Onion' 'Carrot' 'Celery' 'Garlic' 'Cannellini Beans' 'Canned tomatoes' 'Water' 'Rosemary' 'Thyme' 'Kale' 'Wholegrain Bread' 'Red Onion' 'Parmesan' '' '' '' '' '' ''  \n",
       "17                                                                                                                       'Brown Sugar' 'Butter' 'Eggs' 'Vanilla Extract' 'Salt' 'Plain Flour' 'Milk' '' '' '' '' '' '' '' '' '' '' '' '' ''  \n",
       "18                                                                                           'Self-raising Flour' 'Caster Sugar' 'Baking Powder' 'Butter' 'Dried Fruit' 'Eggs' 'Milk' 'Vanilla Extract' '' '' '' '' '' '' '' '' '' '' '' ''  \n",
       "19                                              'rice stick noodles' 'dark soy sauce' 'oyster sauce' 'soy sauce' 'white vinegar' 'sugar' 'water' 'peanut oil' 'garlic' 'Chicken' 'Egg' 'Chinese broccoli' '' '' '' None None None None None  \n",
       "20                                                                                                               'Butter' 'Onions' 'Chicken Stock' 'Chicken Breast' 'Potatoes' 'Salt' 'Black Pepper' '' '' '' '' '' '' '' '' '' '' '' '' ''  \n",
       "21                'Tofu' 'Minced Beef' 'Sesame Seed Oil' 'Doubanjiang' 'Fermented Black Beans' 'Pepper' 'Salt' 'Sichuan pepper' 'Soy Sauce' 'Water' 'Olive Oil' 'Scallions' 'Spring Onions' 'Garlic' 'Ginger' 'Water' 'Cornstarch' '' '' ''  \n",
       "22  'Olive Oil' 'Bacon' 'Shallots' 'Chicken Legs' 'Chicken Thighs' 'Chicken Breasts' 'Garlic' 'Brandy' 'Red Wine' 'Chicken Stock' 'tomato puree' 'thyme' 'Rosemary' 'bay leaves' 'parsley' 'chestnut mushroom' 'plain flour' 'butter' '' ''  \n",
       "23                'Coconut Milk' 'Water' 'Ginger Paste' 'Ginger' 'Bay Leaf' 'Rice' 'Eggs' 'Cucumber' 'Peanuts' 'Anchovy Fillet' 'Vegetable Oil' 'Onion' 'Garlic' 'Shallots' 'Chilli Powder' 'Anchovy Fillet' 'Sugar' 'Tamarind Paste' '' ''  \n",
       "24                                                                                                            'Milk' 'Oil' 'Eggs' 'Flour' 'Baking Powder' 'Salt' 'Unsalted Butter' 'Sugar' 'Peanut Butter' '' '' '' '' '' '' '' '' '' '' ''  \n",
       "25                                         ['Beef' 'Beef Stock Concentrate' 'Tomato Puree' 'Water' 'Soy Sauce'\\n 'White Wine Vinegar' 'Pepper' 'Bay Leaf' 'Lemon' 'Tomato Sauce' 'Butter'\\n 'Olive Oil' 'Onion' 'Garlic' '' '' '' '' '' '']  "
      ]
     },
     "execution_count": 65,
     "metadata": {},
     "output_type": "execute_result"
    }
   ],
   "source": [
    "import numpy as np\n",
    "import pandas as pd\n",
    "\n",
    "#  data[i][f'strIngredient{i}']\n",
    "\n",
    "data = pd.read_json('food_data.json')\n",
    "data = data['meals']\n",
    "total_length = len(data)\n",
    "new_data = [] \n",
    "ingredients = []\n",
    "\n",
    "# Setup for new_data \n",
    "for i,row in enumerate(data):\n",
    "    for j in range(1,21):\n",
    "        the_data = data[i][f'strIngredient{j}']\n",
    "        ingredients.append(the_data)\n",
    "        \n",
    "# Setup for each meal ingredient\n",
    "ingredients = np.array(ingredients)\n",
    "len(ingredients)\n",
    "meal_ingredients = ingredients.reshape((25,20))\n",
    "\n",
    "## More codebase here\n",
    "\n",
    "## Ends here \n",
    "for i,row in enumerate(data):\n",
    "    new_data.append([ data[i]['strMeal'],meal_ingredients[i] ]) \n",
    "\n",
    "# for i in range(1,20):\n",
    "#     meal_ingredients[:,i] = str(meal_ingredients[:,i])\n",
    "    \n",
    "index = np.arange(1,len(new_data)+1)\n",
    "pd.set_option('display.max_colwidth', None)\n",
    "\n",
    "\n",
    "# dict_new_data = {\n",
    "#     'Food': new_data[:,0],\n",
    "#     'Ingredients':new_data[:,1]\n",
    "# }\n",
    "\n",
    "display_data =( pd.DataFrame(new_data, columns=['Food', 'Ingredients'] ,index= index )\n",
    "               .astype(str)\n",
    "              \n",
    "              )\n",
    "# display_data[display_data['Ingredients']]\n",
    "\n",
    "# display_data = pd.DataFrame(dict_new_data ,index= index)\n",
    "\n",
    "# display_data['Ingredients'][1] = display_data['Ingredients'][1].replace('[', '').replace(']', '').replace('\"\"', '').replace('\\n', '')\n",
    "# pd.options.mode.copy_on_write = True\n",
    "\n",
    "\n",
    "\n",
    "\n",
    "for i in range(1,len(display_data)):\n",
    "    display_data.loc[i,'Ingredients'] =(display_data.loc[i,'Ingredients']\n",
    "                                    .replace('[', '')\n",
    "                                    .replace(']', '')\n",
    "                                    .replace('\\n', '') \n",
    "                                    .strip()\n",
    "                                       )\n",
    "  \n",
    "display_data\n"
   ]
  },
  {
   "cell_type": "code",
   "execution_count": 51,
   "id": "0669f838-2cca-4cf3-aaf6-bdf66453f281",
   "metadata": {},
   "outputs": [
    {
     "data": {
      "image/png": "[encoded data removed]",
      "text/plain": [
       "<Figure size 1500x600 with 1 Axes>"
      ]
     },
     "metadata": {},
     "output_type": "display_data"
    }
   ],
   "source": [
    "import numpy as np\n",
    "import pandas as pd\n",
    "import matplotlib.pyplot as plt\n",
    "import seaborn\n",
    "\n",
    "seaborn.set()\n",
    "np.random.seed(42)\n",
    "\n",
    "# Create synthetic historical returns for 1000 days\n",
    "stock_A_returns = np.random.normal(0.001, 0.02, 1000)  # Stock A has mean return of 0.1% and volatility of 2%\n",
    "stock_B_returns = np.random.normal(0.0015, 0.025, 1000)  # Stock B has mean return of 0.15% and volatility of 2.5%\n",
    "\n",
    "\n",
    "stock_dict = {\n",
    "    'Stock_A': stock_A_returns,\n",
    "    'Stock_B' : stock_B_returns,\n",
    "}\n",
    "\n",
    "AB_df = pd.DataFrame(stock_dict)\n",
    "\n",
    "AB_df.mean()['Stock_A'] , AB_df.mean()['Stock_B']\n",
    "\n",
    "mean_var = [AB_df.mean()['Stock_A'] , AB_df.mean()['Stock_B']]\n",
    "\n",
    "mean_var # Mean Variables obtained  \n",
    "\n",
    "AB_cov = AB_df.cov()\n",
    "\n",
    "AB_mean = AB_df.mean()\n",
    "AB_mean\n",
    "AB_cov\n",
    "\n",
    "AB_random = np.random.multivariate_normal(AB_mean, AB_cov, 1000)\n",
    "\n",
    "AB_random_df = pd.DataFrame(AB_random, columns= ['Stock A','Stock B'] , index= range(1,len(AB_random)+1))\n",
    "\n",
    "AB_random_df\n",
    "plt.figure(figsize=(15, 6))\n",
    "plt.scatter( AB_random_df['Stock A'] , AB_random_df['Stock B'] , color = 'blue' , marker = 'o')\n",
    "plt.show()\n",
    "#  Graph shows points haphazardly moving showing zero covariance between them "
   ]
  },
  {
   "cell_type": "code",
   "execution_count": 94,
   "id": "19cef941-5531-4887-9f77-e7d4139a002f",
   "metadata": {},
   "outputs": [
    {
     "data": {
      "image/png": "[encoded data removed]",
      "text/plain": [
       "<Figure size 1300x600 with 1 Axes>"
      ]
     },
     "metadata": {},
     "output_type": "display_data"
    }
   ],
   "source": [
    "import pandas as pd\n",
    "import numpy as np\n",
    "import seaborn; seaborn.set()\n",
    "from matplotlib import pyplot as plt\n",
    "\n",
    "tsla_data = pd.read_csv('TSLA.csv')\n",
    "apple_data = pd.read_csv('AAPL.csv')\n",
    "apple_data.head(), tsla_data.head()\n",
    "\n",
    "apple_low = pd.Series(apple_data['Low'])\n",
    "tsla_low =  pd.Series(tsla_data['Low'])\n",
    "\n",
    "low_dict = {\n",
    "    'AAPL': apple_low,\n",
    "    'TSLA': tsla_low,\n",
    "}\n",
    "\n",
    "combine_low = pd.DataFrame(low_dict)\n",
    "\n",
    "combine_low.loc[combine_low['TSLA'].isnull(), 'TSLA'] = tsla_low.mean()\n",
    "combine_low\n",
    "\n",
    "low_data = np.random.multivariate_normal(combine_low[:1000].mean(), combine_low[:1000].cov(), 1000)\n",
    "\n",
    "# len(apple_low)  ,   len(tsla_low)\n",
    "new_data = pd.DataFrame(low_data, columns=['AAPL', 'TSLA'])\n",
    "\n",
    "# Visualization\n",
    "plt.figure(figsize= (13,6))\n",
    "plt.scatter(new_data['AAPL'], new_data['TSLA'])\n",
    "plt.title('Relationship between APPL Low and TSLA low data')\n",
    "plt.xlabel('AAPL Low')\n",
    "plt.ylabel('TSLA Low')\n",
    "plt.show()"
   ]
  },
  {
   "cell_type": "code",
   "execution_count": null,
   "id": "cc63b908-3bcb-4b1c-bc3c-c00847ced6aa",
   "metadata": {},
   "outputs": [],
   "source": []
  }
 ],
 "metadata": {
  "kernelspec": {
   "display_name": "Python 3 (ipykernel)",
   "language": "python",
   "name": "python3"
  },
  "language_info": {
   "codemirror_mode": {
    "name": "ipython",
    "version": 3
   },
   "file_extension": ".py",
   "mimetype": "text/x-python",
   "name": "python",
   "nbconvert_exporter": "python",
   "pygments_lexer": "ipython3",
   "version": "3.12.4"
  }
 },
 "nbformat": 4,
 "nbformat_minor": 5
}
