{
 "cells": [
  {
   "cell_type": "code",
   "execution_count": null,
   "id": "dcb0adba-0d99-4a9a-9ef0-59e2f103465d",
   "metadata": {},
   "outputs": [],
   "source": []
  }
 ],
 "metadata": {
  "kernelspec": {
   "display_name": "",
   "name": ""
  },
  "language_info": {
   "name": ""
  }
 },
 "nbformat": 4,
 "nbformat_minor": 5
}
