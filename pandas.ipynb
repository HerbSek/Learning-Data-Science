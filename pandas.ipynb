{
 "cells": [
  {
   "cell_type": "markdown",
   "id": "2723e4f0-56b4-4516-893f-a10738b55485",
   "metadata": {},
   "source": [
    "## Pandas "
   ]
  },
  {
   "cell_type": "markdown",
   "id": "28d4d574-dc5e-41f2-ad50-e8586e4b697c",
   "metadata": {},
   "source": [
    "### Three fundermental Pandas data Structures \n",
    "\n",
    "#### Series as a generalized Numpy Array"
   ]
  },
  {
   "cell_type": "code",
   "execution_count": 1,
   "id": "0dda9fb6-6c5c-4a93-ae23-10635ee8b4f4",
   "metadata": {},
   "outputs": [
    {
     "name": "stdout",
     "output_type": "stream",
     "text": [
      "0    0.25\n",
      "1    0.50\n",
      "2    0.75\n",
      "3    1.00\n",
      "dtype: float64\n"
     ]
    },
    {
     "data": {
      "text/plain": [
       "(array([0.25, 0.5 , 0.75, 1.  ]),\n",
       " RangeIndex(start=0, stop=4, step=1),\n",
       " np.float64(0.5))"
      ]
     },
     "execution_count": 1,
     "metadata": {},
     "output_type": "execute_result"
    }
   ],
   "source": [
    "import pandas as pd\n",
    "\n",
    "data = pd.Series([0.25,0.5,0.75,1.0])\n",
    "print(data)\n",
    "data.values, data.index, data[1]"
   ]
  },
  {
   "cell_type": "code",
   "execution_count": 15,
   "id": "966ba0d0-8910-4d62-91a5-127ae24b5f24",
   "metadata": {},
   "outputs": [
    {
     "data": {
      "text/plain": [
       "(apple      0.25\n",
       " banana     0.50\n",
       " cabbage    0.75\n",
       " donuts     1.00\n",
       " dtype: float64,\n",
       " 2    0\n",
       " 3    2\n",
       " 4    3\n",
       " 5    4\n",
       " dtype: int64)"
      ]
     },
     "execution_count": 15,
     "metadata": {},
     "output_type": "execute_result"
    }
   ],
   "source": [
    "data = pd.Series([0.25, 0.5, 0.75, 1.0], index=['apple','banana','cabbage','donuts'])\n",
    "data2 = pd.Series([0,2,3,4], index=[2,3,4,5])\n",
    "data , data2"
   ]
  },
  {
   "cell_type": "markdown",
   "id": "cc730e5c-f754-4eb8-9bff-3b256f86db68",
   "metadata": {},
   "source": [
    "#### Series as a specialized dictionary "
   ]
  },
  {
   "cell_type": "code",
   "execution_count": 2,
   "id": "c8874450-e9bc-4347-aa87-542a0a239e6f",
   "metadata": {},
   "outputs": [
    {
     "data": {
      "text/plain": [
       "array([38332521, 26448193, 19651127, 19552860], dtype=object)"
      ]
     },
     "execution_count": 2,
     "metadata": {},
     "output_type": "execute_result"
    }
   ],
   "source": [
    "population_dict = {\n",
    "'California': 38332521,\n",
    " 'Texas': 26448193,\n",
    " 'New York': 19651127,\n",
    " 'Florida': 19552860,\n",
    " 'Illinois': 12882135\n",
    "}\n",
    "\n",
    "population = pd.Series(population_dict)\n",
    "# population['California':'Florida'].values"
   ]
  },
  {
   "cell_type": "markdown",
   "id": "94138dec-8ef9-43f6-bc52-b1e1d8e4f4ed",
   "metadata": {},
   "source": [
    "### The Pandas DataFrame Object "
   ]
  },
  {
   "cell_type": "markdown",
   "id": "48bcfe83-1ffb-4db2-94a2-113d05efbbc4",
   "metadata": {},
   "source": [
    "#### DataFrame as a generalized NumPy Array"
   ]
  },
  {
   "cell_type": "code",
   "execution_count": 40,
   "id": "af1208c3-977b-467e-82bf-51b0b61597ea",
   "metadata": {},
   "outputs": [
    {
     "name": "stdout",
     "output_type": "stream",
     "text": [
      "            Population    Area  Population Density\n",
      "California    38332521  423967           90.413926\n",
      "Texas         26448193  695662           38.018740\n",
      "New York      19651127  141297          139.076746\n",
      "Florida       19552860  170312          114.806121\n",
      "Illinois      12882135  149995           85.883763\n"
     ]
    }
   ],
   "source": [
    "import pandas as pd\n",
    "\n",
    "area_dict = {'California': 423967, 'Texas': 695662, 'New York': 141297,'Florida': 170312, 'Illinois': 149995}\n",
    "area = pd.Series(area_dict)\n",
    "\n",
    "states = pd.DataFrame({'Population':population, 'Area':area})\n",
    "states['Population Density'] = states['Population'] / states['Area']\n",
    "print(states)"
   ]
  },
  {
   "cell_type": "code",
   "execution_count": 13,
   "id": "7a3caf81-ecb8-4ef5-a93c-cb11a9c44424",
   "metadata": {},
   "outputs": [
    {
     "name": "stdout",
     "output_type": "stream",
     "text": [
      "            population    area\n",
      "California    38332521  423967\n",
      "Texas         26448193  695662\n",
      "New York      19651127  141297\n",
      "Florida       19552860  170312\n",
      "Illinois      12882135  149995\n"
     ]
    },
    {
     "data": {
      "text/plain": [
       "California    423967\n",
       "Texas         695662\n",
       "New York      141297\n",
       "Florida       170312\n",
       "Illinois      149995\n",
       "Name: area, dtype: int64"
      ]
     },
     "execution_count": 13,
     "metadata": {},
     "output_type": "execute_result"
    }
   ],
   "source": [
    "import pandas as pd\n",
    "\n",
    "population_dict = {'California': 38332521,\n",
    "'Texas': 26448193,\n",
    "'New York': 19651127,\n",
    "'Florida': 19552860,\n",
    "'Illinois': 12882135}\n",
    "\n",
    "area_dict = {'California': 423967, 'Texas'Florida       170312\n",
    ": 695662, 'New York': 141297,'Florida': 170312, 'Illinois': 149995}\n",
    "\n",
    "population = pd.Series(population_dict)\n",
    "area = pd.Series(area_dict)\n",
    "\n",
    "states_dict = {'population': population, 'area': area }\n",
    "states = pd.DataFrame(states_dict)\n",
    "\n",
    "print(states)\n",
    "states['area']\n"
   ]
  },
  {
   "cell_type": "markdown",
   "id": "efdf9a5a-466a-45d5-934b-77844cae20ee",
   "metadata": {},
   "source": [
    "#### DataFrame as a specialized Dictionary"
   ]
  },
  {
   "cell_type": "code",
   "execution_count": 30,
   "id": "3b46a648-8ab2-4e59-949d-04ce5d265d32",
   "metadata": {},
   "outputs": [
    {
     "name": "stdout",
     "output_type": "stream",
     "text": [
      "[(0, 0.) (0, 0.) (0, 0.)]\n",
      "   A    B\n",
      "0  0  0.0\n",
      "1  0  0.0\n",
      "2  0  0.0\n"
     ]
    }
   ],
   "source": [
    "import numpy as np\n",
    "import pandas as pd\n",
    "dtype = [('A','i8'),('B','f8')]\n",
    "A = np.zeros(3, dtype = dtype)\n",
    "print(A)\n",
    "Adata = pd.DataFrame(A)\n",
    "print(Adata)\n",
    "# Aindex = pd.Index(A)\n",
    "# Aindex[:2]"
   ]
  },
  {
   "cell_type": "code",
   "execution_count": 32,
   "id": "93aa863d-0875-479c-abc0-389b5fac8ccd",
   "metadata": {},
   "outputs": [
    {
     "data": {
      "text/plain": [
       "Index([2, 5, 11], dtype='int64')"
      ]
     },
     "execution_count": 32,
     "metadata": {},
     "output_type": "execute_result"
    }
   ],
   "source": [
    "ind = pd.Index([2, 3, 5, 7, 11])\n",
    "ind[::2]"
   ]
  },
  {
   "cell_type": "markdown",
   "id": "79aa40d0-24bd-47d5-92a7-d5b50ebb8183",
   "metadata": {},
   "source": [
    "#### Practice"
   ]
  },
  {
   "cell_type": "code",
   "execution_count": 71,
   "id": "07a42a98-b263-4928-8b09-71875e2999e2",
   "metadata": {},
   "outputs": [
    {
     "data": {
      "text/html": [
       "<div>\n",
       "<style scoped>\n",
       "    .dataframe tbody tr th:only-of-type {\n",
       "        vertical-align: middle;\n",
       "    }\n",
       "\n",
       "    .dataframe tbody tr th {\n",
       "        vertical-align: top;\n",
       "    }\n",
       "\n",
       "    .dataframe thead th {\n",
       "        text-align: right;\n",
       "    }\n",
       "</style>\n",
       "<table border=\"1\" class=\"dataframe\">\n",
       "  <thead>\n",
       "    <tr style=\"text-align: right;\">\n",
       "      <th></th>\n",
       "      <th>Presidents</th>\n",
       "      <th>Heights</th>\n",
       "    </tr>\n",
       "  </thead>\n",
       "  <tbody>\n",
       "    <tr>\n",
       "      <th>1</th>\n",
       "      <td>George Washington</td>\n",
       "      <td>189</td>\n",
       "    </tr>\n",
       "    <tr>\n",
       "      <th>2</th>\n",
       "      <td>John Adams</td>\n",
       "      <td>170</td>\n",
       "    </tr>\n",
       "    <tr>\n",
       "      <th>3</th>\n",
       "      <td>Thomas Jefferson</td>\n",
       "      <td>189</td>\n",
       "    </tr>\n",
       "    <tr>\n",
       "      <th>4</th>\n",
       "      <td>James Madison</td>\n",
       "      <td>180</td>\n",
       "    </tr>\n",
       "    <tr>\n",
       "      <th>5</th>\n",
       "      <td>James Monroe</td>\n",
       "      <td>175</td>\n",
       "    </tr>\n",
       "    <tr>\n",
       "      <th>6</th>\n",
       "      <td>John Quincy Adams</td>\n",
       "      <td>160</td>\n",
       "    </tr>\n",
       "    <tr>\n",
       "      <th>7</th>\n",
       "      <td>Andrew Jackson</td>\n",
       "      <td>185</td>\n",
       "    </tr>\n",
       "    <tr>\n",
       "      <th>8</th>\n",
       "      <td>Martin Van Buren</td>\n",
       "      <td>170</td>\n",
       "    </tr>\n",
       "    <tr>\n",
       "      <th>9</th>\n",
       "      <td>William Henry Harrison</td>\n",
       "      <td>165</td>\n",
       "    </tr>\n",
       "    <tr>\n",
       "      <th>10</th>\n",
       "      <td>John Tyler</td>\n",
       "      <td>168</td>\n",
       "    </tr>\n",
       "    <tr>\n",
       "      <th>11</th>\n",
       "      <td>Zachary Taylor</td>\n",
       "      <td>172</td>\n",
       "    </tr>\n",
       "    <tr>\n",
       "      <th>12</th>\n",
       "      <td>Millard Fillmore</td>\n",
       "      <td>178</td>\n",
       "    </tr>\n",
       "    <tr>\n",
       "      <th>13</th>\n",
       "      <td>Franklin Pierce</td>\n",
       "      <td>182</td>\n",
       "    </tr>\n",
       "    <tr>\n",
       "      <th>14</th>\n",
       "      <td>James Buchanan</td>\n",
       "      <td>174</td>\n",
       "    </tr>\n",
       "    <tr>\n",
       "      <th>15</th>\n",
       "      <td>Abraham Lincoln</td>\n",
       "      <td>190</td>\n",
       "    </tr>\n",
       "    <tr>\n",
       "      <th>16</th>\n",
       "      <td>Andrew Johnson</td>\n",
       "      <td>177</td>\n",
       "    </tr>\n",
       "    <tr>\n",
       "      <th>17</th>\n",
       "      <td>Ulysses S. Grant</td>\n",
       "      <td>188</td>\n",
       "    </tr>\n",
       "    <tr>\n",
       "      <th>18</th>\n",
       "      <td>Rutherford B. Hayes</td>\n",
       "      <td>166</td>\n",
       "    </tr>\n",
       "    <tr>\n",
       "      <th>19</th>\n",
       "      <td>James A. Garfield</td>\n",
       "      <td>180</td>\n",
       "    </tr>\n",
       "    <tr>\n",
       "      <th>20</th>\n",
       "      <td>Chester A. Arthur</td>\n",
       "      <td>171</td>\n",
       "    </tr>\n",
       "  </tbody>\n",
       "</table>\n",
       "</div>"
      ],
      "text/plain": [
       "                Presidents Heights\n",
       "1        George Washington     189\n",
       "2               John Adams     170\n",
       "3         Thomas Jefferson     189\n",
       "4            James Madison     180\n",
       "5             James Monroe     175\n",
       "6        John Quincy Adams     160\n",
       "7           Andrew Jackson     185\n",
       "8         Martin Van Buren     170\n",
       "9   William Henry Harrison     165\n",
       "10              John Tyler     168\n",
       "11          Zachary Taylor     172\n",
       "12        Millard Fillmore     178\n",
       "13         Franklin Pierce     182\n",
       "14          James Buchanan     174\n",
       "15         Abraham Lincoln     190\n",
       "16          Andrew Johnson     177\n",
       "17        Ulysses S. Grant     188\n",
       "18     Rutherford B. Hayes     166\n",
       "19       James A. Garfield     180\n",
       "20       Chester A. Arthur     171"
      ]
     },
     "execution_count": 71,
     "metadata": {},
     "output_type": "execute_result"
    }
   ],
   "source": [
    "# Exercise \n",
    "\n",
    "import pandas as pd\n",
    "import numpy as np\n",
    "\n",
    "file = pd.read_csv('president.csv')\n",
    "data = np.array(file)\n",
    "data[:,0], data[:,1], data[:,2]\n",
    "# np.hsplit(data,3)[0] ~ data[:,0]\n",
    "# Now we assign them using DataFrame and Series from the pandas Library\n",
    "\n",
    "presidents = pd.Series(data[:,1], index=data[:,0])\n",
    "heights = pd.Series(data[:,2], index=data[:,0])\n",
    "# info_dict = {'Presidents': presidents, 'heights':heights}\n",
    "# info = pd.DataFrame(info_dict) \n",
    "\n",
    "info = pd.DataFrame(data[:,1:], columns=['Presidents','Heights'] , index=data[:,0])\n",
    "info\n"
   ]
  },
  {
   "cell_type": "markdown",
   "id": "96925d06-7781-4942-b83b-ca5ed10be0fe",
   "metadata": {},
   "source": [
    "### Data Selection and Indexing "
   ]
  },
  {
   "cell_type": "code",
   "execution_count": null,
   "id": "170f8b54-ef9f-40a8-b83c-3f52503adb1e",
   "metadata": {},
   "outputs": [],
   "source": []
  }
 ],
 "metadata": {
  "kernelspec": {
   "display_name": "Python 3 (ipykernel)",
   "language": "python",
   "name": "python3"
  },
  "language_info": {
   "codemirror_mode": {
    "name": "ipython",
    "version": 3
   },
   "file_extension": ".py",
   "mimetype": "text/x-python",
   "name": "python",
   "nbconvert_exporter": "python",
   "pygments_lexer": "ipython3",
   "version": "3.12.4"
  }
 },
 "nbformat": 4,
 "nbformat_minor": 5
}
